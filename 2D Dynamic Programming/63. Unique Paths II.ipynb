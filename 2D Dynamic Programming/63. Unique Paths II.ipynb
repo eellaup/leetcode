{
 "cells": [
  {
   "cell_type": "markdown",
   "metadata": {},
   "source": [
    "# [63. Unique Paths II](https://leetcode.com/problems/unique-paths-ii/)"
   ]
  },
  {
   "cell_type": "markdown",
   "metadata": {},
   "source": [
    "Time Complexity: O(m*n)\n",
    "\n",
    "Space Complexity: (n)"
   ]
  },
  {
   "cell_type": "code",
   "execution_count": null,
   "metadata": {},
   "outputs": [],
   "source": [
    "class Solution:\n",
    "    def uniquePathsWithObstacles(self, obstacleGrid: List[List[int]]) -> int:\n",
    "    \n",
    "        ROW, COL = len(obstacleGrid), len(obstacleGrid[0])\n",
    "\n",
    "        rows = [0] * COL\n",
    "        rows[-1] = 1\n",
    "\n",
    "        for r in range(ROW-1, -1, -1):\n",
    "            for c in range(COL-1, -1, -1):\n",
    "                if obstacleGrid[r][c]:\n",
    "                    rows[c] = 0\n",
    "                elif c+1 < COL:\n",
    "                    rows[c] = rows[c+1] + rows[c]\n",
    "        return rows[0]"
   ]
  }
 ],
 "metadata": {
  "kernelspec": {
   "display_name": "base",
   "language": "python",
   "name": "python3"
  },
  "language_info": {
   "codemirror_mode": {
    "name": "ipython",
    "version": 3
   },
   "file_extension": ".py",
   "mimetype": "text/x-python",
   "name": "python",
   "nbconvert_exporter": "python",
   "pygments_lexer": "ipython3",
   "version": "3.9.13"
  },
  "orig_nbformat": 4
 },
 "nbformat": 4,
 "nbformat_minor": 2
}
