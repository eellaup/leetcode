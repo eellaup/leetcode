{
 "cells": [
  {
   "cell_type": "markdown",
   "metadata": {},
   "source": [
    "# [62. Unique Paths](https://leetcode.com/problems/unique-paths/description/)"
   ]
  },
  {
   "cell_type": "markdown",
   "metadata": {},
   "source": [
    "Time Complexity: O(m*n)\n",
    "\n",
    "Space Complexity: (n)"
   ]
  },
  {
   "cell_type": "code",
   "execution_count": null,
   "metadata": {},
   "outputs": [],
   "source": [
    "class Solution:\n",
    "    def uniquePaths(self, m: int, n: int) -> int:\n",
    "        row = [1] * n\n",
    "        \n",
    "        for r in range(m-1):\n",
    "            newRow = [1] * n\n",
    "            for c in range(n-2, -1, -1):\n",
    "                newRow[c] = newRow[c+1] + row[c]\n",
    "            row = newRow\n",
    "\n",
    "        return row[0]"
   ]
  }
 ],
 "metadata": {
  "kernelspec": {
   "display_name": "base",
   "language": "python",
   "name": "python3"
  },
  "language_info": {
   "codemirror_mode": {
    "name": "ipython",
    "version": 3
   },
   "file_extension": ".py",
   "mimetype": "text/x-python",
   "name": "python",
   "nbconvert_exporter": "python",
   "pygments_lexer": "ipython3",
   "version": "3.9.13"
  },
  "orig_nbformat": 4
 },
 "nbformat": 4,
 "nbformat_minor": 2
}
