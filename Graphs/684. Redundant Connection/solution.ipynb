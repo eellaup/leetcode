{
 "cells": [
  {
   "cell_type": "markdown",
   "metadata": {},
   "source": [
    "# [LeetCode 684. Redundant Connection](https://leetcode.com/problems/redundant-connection/)"
   ]
  },
  {
   "cell_type": "markdown",
   "metadata": {},
   "source": [
    "Time Complexity: O(n)\n",
    "\n",
    "Space Complexity: O(n)"
   ]
  },
  {
   "cell_type": "code",
   "execution_count": null,
   "metadata": {},
   "outputs": [],
   "source": [
    "class Solution:\n",
    "    def findRedundantConnection(self, edges: List[List[int]]) -> List[int]:\n",
    "        par = list(range(len(edges)+1))\n",
    "        rank = [1] * (len(edges)+1)\n",
    "\n",
    "        def find(n):\n",
    "            p = par[n]\n",
    "            while p!=par[p]:\n",
    "                par[p] = par[par[p]]\n",
    "                p = par[p]\n",
    "            return p\n",
    "        \n",
    "        def union(n1,n2):\n",
    "            p1, p2  = find(n1), find(n2)\n",
    "\n",
    "            if p1==p2:\n",
    "                return False\n",
    "            \n",
    "            if rank[p1] > rank[p2]:\n",
    "                par[p2] = p1\n",
    "                rank[p1] += rank[p2]\n",
    "            else:\n",
    "                par[p1] = p2\n",
    "                rank[p2] += rank[p1]\n",
    "            return True\n",
    "\n",
    "\n",
    "        for n1, n2 in edges:\n",
    "            if not union(n1,n2):\n",
    "                return [n1,n2]"
   ]
  }
 ],
 "metadata": {
  "kernelspec": {
   "display_name": "base",
   "language": "python",
   "name": "python3"
  },
  "language_info": {
   "codemirror_mode": {
    "name": "ipython",
    "version": 3
   },
   "file_extension": ".py",
   "mimetype": "text/x-python",
   "name": "python",
   "nbconvert_exporter": "python",
   "pygments_lexer": "ipython3",
   "version": "3.9.13"
  },
  "orig_nbformat": 4
 },
 "nbformat": 4,
 "nbformat_minor": 2
}
