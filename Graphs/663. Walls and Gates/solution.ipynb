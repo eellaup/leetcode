{
 "cells": [
  {
   "cell_type": "markdown",
   "metadata": {},
   "source": [
    "# [LeetCode 663. Walls and Gates](https://www.lintcode.com/problem/663/)"
   ]
  },
  {
   "cell_type": "markdown",
   "metadata": {},
   "source": [
    "Time Complexity: O(n*m)\n",
    "\n",
    "Space Complexity: O(n*m)"
   ]
  },
  {
   "cell_type": "code",
   "execution_count": null,
   "metadata": {},
   "outputs": [],
   "source": [
    "from typing import (\n",
    "    List,\n",
    ")\n",
    "\n",
    "from collections import deque\n",
    "\n",
    "class Solution:\n",
    "    \"\"\"\n",
    "    @param rooms: m x n 2D grid\n",
    "    @return: nothing\n",
    "    \"\"\"\n",
    "    def walls_and_gates(self, rooms: List[List[int]]):\n",
    "\n",
    "        rowNum, colNum = len(rooms), len(rooms[0])\n",
    "        q = deque()\n",
    "        visit = set()\n",
    "\n",
    "        # find all the gates\n",
    "        for i in range(rowNum):\n",
    "            for j in range(colNum):\n",
    "                if rooms[i][j]==0:\n",
    "                    q.append((i,j,0))\n",
    "                    visit.add((i,j))\n",
    "        \n",
    "        while q:\n",
    "            i,j,pathCount = q.popleft()\n",
    "\n",
    "            rooms[i][j] = pathCount\n",
    "\n",
    "            directions = [(1,0),(0,1),(-1,0),(0,-1)]\n",
    "\n",
    "            for di,dj in directions:\n",
    "                row = i+di\n",
    "                col = j+dj\n",
    "                if row in range(rowNum) and \\\n",
    "                    col in range(colNum) and \\\n",
    "                    rooms[row][col] > -1 and \\\n",
    "                    (row,col) not in visit:\n",
    "                        q.append((row,col,pathCount+1))\n",
    "                        visit.add((row,col))\n"
   ]
  }
 ],
 "metadata": {
  "kernelspec": {
   "display_name": "base",
   "language": "python",
   "name": "python3"
  },
  "language_info": {
   "codemirror_mode": {
    "name": "ipython",
    "version": 3
   },
   "file_extension": ".py",
   "mimetype": "text/x-python",
   "name": "python",
   "nbconvert_exporter": "python",
   "pygments_lexer": "ipython3",
   "version": "3.9.13"
  },
  "orig_nbformat": 4
 },
 "nbformat": 4,
 "nbformat_minor": 2
}
