{
 "cells": [
  {
   "cell_type": "markdown",
   "metadata": {},
   "source": [
    "# [LeetCode 994. Rotting Oranges](https://leetcode.com/problems/rotting-oranges/)"
   ]
  },
  {
   "cell_type": "markdown",
   "metadata": {},
   "source": [
    "Time Complexity: O(n*m)\n",
    "\n",
    "Space Complexity: O(n*m)"
   ]
  },
  {
   "cell_type": "code",
   "execution_count": null,
   "metadata": {},
   "outputs": [],
   "source": [
    "class Solution:\n",
    "    def orangesRotting(self, grid: List[List[int]]) -> int:\n",
    "        q = deque()\n",
    "        time, fresh = 0, 0\n",
    "        rowNum, colNum = len(grid), len(grid[0])\n",
    "\n",
    "        for i in range(rowNum):\n",
    "            for j in range(colNum):\n",
    "                if grid[i][j]==1:\n",
    "                    fresh += 1\n",
    "                if grid[i][j]==2:\n",
    "                    q.append((i,j))\n",
    "        \n",
    "        while q and fresh>0:\n",
    "            for o in range(len(q)):\n",
    "                i,j = q.popleft()\n",
    "\n",
    "                directions = [(1,0),(0,1),(-1,0),(0,-1)]\n",
    "\n",
    "                for di,dj in directions:\n",
    "                    row = i+di\n",
    "                    col = j+dj\n",
    "                    if row in range(rowNum) and \\\n",
    "                        col in range(colNum) and \\\n",
    "                        grid[row][col]==1:\n",
    "                            grid[row][col]=2\n",
    "                            q.append((row,col))\n",
    "                            fresh -= 1\n",
    "            time += 1\n",
    "\n",
    "        return time if fresh==0 else -1"
   ]
  }
 ],
 "metadata": {
  "kernelspec": {
   "display_name": "base",
   "language": "python",
   "name": "python3"
  },
  "language_info": {
   "codemirror_mode": {
    "name": "ipython",
    "version": 3
   },
   "file_extension": ".py",
   "mimetype": "text/x-python",
   "name": "python",
   "nbconvert_exporter": "python",
   "pygments_lexer": "ipython3",
   "version": "3.9.13"
  },
  "orig_nbformat": 4
 },
 "nbformat": 4,
 "nbformat_minor": 2
}
