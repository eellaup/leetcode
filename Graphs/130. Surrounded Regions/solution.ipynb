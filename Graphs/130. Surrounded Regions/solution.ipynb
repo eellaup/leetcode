{
 "cells": [
  {
   "cell_type": "markdown",
   "metadata": {},
   "source": [
    "# [LeetCode 130. Surrounded Regions](https://leetcode.com/problems/surrounded-regions/)"
   ]
  },
  {
   "cell_type": "markdown",
   "metadata": {},
   "source": [
    "Time Complexity: O(n*m)\n",
    "\n",
    "Space Complexity: O(n*m)"
   ]
  },
  {
   "cell_type": "code",
   "execution_count": null,
   "metadata": {},
   "outputs": [],
   "source": [
    "class Solution:\n",
    "    def solve(self, board: List[List[str]]) -> None:\n",
    "        \"\"\"\n",
    "        Do not return anything, modify board in-place instead.\n",
    "        \"\"\"\n",
    "        rowNum, colNum = len(board), len(board[0])\n",
    "\n",
    "        def dfs(i,j):\n",
    "            if i not in range(rowNum) or \\\n",
    "                j not in range(colNum) or \\\n",
    "                board[i][j] != \"O\":\n",
    "                    return\n",
    "            \n",
    "            board[i][j] = \"T\"\n",
    "            directions = [(1,0),(0,1),(-1,0),(0,-1)]\n",
    "\n",
    "            for di,dj in directions:\n",
    "                dfs(i+di, j+dj)\n",
    "        \n",
    "        for i in range(rowNum):\n",
    "            for j in range(colNum):\n",
    "                if i in [0,rowNum-1] or j in [0,colNum-1]:\n",
    "                    dfs(i,j)\n",
    "\n",
    "        for i in range(rowNum):\n",
    "            for j in range(colNum):\n",
    "                if board[i][j]==\"O\": board[i][j]=\"X\"\n",
    "                if board[i][j]==\"T\": board[i][j]=\"O\""
   ]
  }
 ],
 "metadata": {
  "kernelspec": {
   "display_name": "base",
   "language": "python",
   "name": "python3"
  },
  "language_info": {
   "codemirror_mode": {
    "name": "ipython",
    "version": 3
   },
   "file_extension": ".py",
   "mimetype": "text/x-python",
   "name": "python",
   "nbconvert_exporter": "python",
   "pygments_lexer": "ipython3",
   "version": "3.9.13"
  },
  "orig_nbformat": 4
 },
 "nbformat": 4,
 "nbformat_minor": 2
}
