{
 "cells": [
  {
   "cell_type": "markdown",
   "metadata": {},
   "source": [
    "# [LeetCode 207. Course Schedule](https://leetcode.com/problems/course-schedule/)"
   ]
  },
  {
   "cell_type": "markdown",
   "metadata": {},
   "source": [
    "Time Complexity: O(n+p)\n",
    "\n",
    "Space Complexity: O(n+p)"
   ]
  },
  {
   "cell_type": "code",
   "execution_count": null,
   "metadata": {},
   "outputs": [],
   "source": [
    "class Solution:\n",
    "    def canFinish(self, numCourses: int, prerequisites: List[List[int]]) -> bool:\n",
    "        \n",
    "        preMap = { i:[] for i in range(numCourses)}\n",
    "        for crs,pre in prerequisites:\n",
    "            preMap[crs].append(pre)\n",
    "\n",
    "        visit = set()\n",
    "        def dfs(crs):\n",
    "            if crs in visit:\n",
    "                return False\n",
    "            if not preMap[crs]:\n",
    "                return True\n",
    "            \n",
    "            visit.add(crs)\n",
    "            for pre in preMap[crs]:\n",
    "                if not dfs(pre): return False\n",
    "            visit.remove(crs)\n",
    "            preMap[crs] = []\n",
    "            return True\n",
    "        \n",
    "        for crs in range(numCourses):\n",
    "            if not dfs(crs): return False\n",
    "        return True\n",
    "        "
   ]
  }
 ],
 "metadata": {
  "kernelspec": {
   "display_name": "base",
   "language": "python",
   "name": "python3"
  },
  "language_info": {
   "codemirror_mode": {
    "name": "ipython",
    "version": 3
   },
   "file_extension": ".py",
   "mimetype": "text/x-python",
   "name": "python",
   "nbconvert_exporter": "python",
   "pygments_lexer": "ipython3",
   "version": "3.9.13"
  },
  "orig_nbformat": 4
 },
 "nbformat": 4,
 "nbformat_minor": 2
}
