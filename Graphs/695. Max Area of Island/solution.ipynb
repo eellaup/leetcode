{
 "cells": [
  {
   "cell_type": "markdown",
   "metadata": {},
   "source": [
    "# [LeetCode 695. Max Area of Island](https://leetcode.com/problems/max-area-of-island/)"
   ]
  },
  {
   "cell_type": "markdown",
   "metadata": {},
   "source": [
    "Time Complexity: O(n)\n",
    "\n",
    "Space Complexity: O(n)"
   ]
  },
  {
   "cell_type": "code",
   "execution_count": null,
   "metadata": {},
   "outputs": [],
   "source": [
    "class Solution:\n",
    "    def maxAreaOfIsland(self, grid: List[List[int]]) -> int:\n",
    "        result = 0\n",
    "        visited = set()\n",
    "\n",
    "        if not grid:\n",
    "            return result\n",
    "        \n",
    "        row_num = len(grid)\n",
    "        col_num = len(grid[0])\n",
    "\n",
    "        def bfs(i, j):\n",
    "            q = deque()\n",
    "            q.append((i,j))\n",
    "            visited.add((i,j))\n",
    "\n",
    "            counter = 1\n",
    "\n",
    "            while q:\n",
    "                r,c = q.popleft()\n",
    "                directions = [(1,0),(0,1),(-1,0),(0,-1)]\n",
    "                for (di,dj) in directions:\n",
    "                    row = r+di\n",
    "                    col = c+dj\n",
    "\n",
    "                    if row in range(row_num) and \\\n",
    "                        col in range(col_num) and \\\n",
    "                        grid[row][col]==1 and \\\n",
    "                        (row,col) not in visited:\n",
    "                            counter += 1\n",
    "                            q.append((row,col))\n",
    "                            visited.add((row,col))\n",
    "            return counter\n",
    "        \n",
    "        for i in range(row_num):\n",
    "            for j in range(col_num):\n",
    "                if grid[i][j]==1 and (i,j) not in visited:\n",
    "                    result = max(result, bfs(i,j))\n",
    "        \n",
    "        return result"
   ]
  }
 ],
 "metadata": {
  "kernelspec": {
   "display_name": "base",
   "language": "python",
   "name": "python3"
  },
  "language_info": {
   "codemirror_mode": {
    "name": "ipython",
    "version": 3
   },
   "file_extension": ".py",
   "mimetype": "text/x-python",
   "name": "python",
   "nbconvert_exporter": "python",
   "pygments_lexer": "ipython3",
   "version": "3.9.13"
  },
  "orig_nbformat": 4
 },
 "nbformat": 4,
 "nbformat_minor": 2
}
