{
 "cells": [
  {
   "cell_type": "markdown",
   "metadata": {},
   "source": [
    "# [LeetCode 200. Number of Islands](https://leetcode.com/problems/number-of-islands/)"
   ]
  },
  {
   "cell_type": "markdown",
   "metadata": {},
   "source": [
    "Time Complexity: O(n)\n",
    "\n",
    "Space Complexity: O(n)"
   ]
  },
  {
   "cell_type": "code",
   "execution_count": null,
   "metadata": {},
   "outputs": [],
   "source": [
    "class Solution:\n",
    "    def numIslands(self, grid: List[List[str]]) -> int:\n",
    "        result = 0\n",
    "        visited = set()\n",
    "\n",
    "        if not grid:\n",
    "            return result\n",
    "\n",
    "        row_num, col_num = len(grid), len(grid[0])\n",
    "        \n",
    "        def bfs(i, j):\n",
    "            q = deque()\n",
    "            q.append((i,j))\n",
    "            visited.add((i,j))\n",
    "            \n",
    "            while q:\n",
    "                r,c = q.popleft()\n",
    "                directions = [(1,0), (0,1), (-1,0), (0,-1)] # right, down, left, right\n",
    "\n",
    "                for di, dj in directions:\n",
    "                    row = r+di\n",
    "                    col = c+dj\n",
    "                    if row in range(row_num) and \\\n",
    "                        col in range(col_num) and \\\n",
    "                        grid[row][col]==\"1\" and \\\n",
    "                        (row,col) not in visited:\n",
    "                            q.append((row,col))\n",
    "                            visited.add((row,col))\n",
    "\n",
    "        for i in range(row_num):\n",
    "            for j in range(col_num):\n",
    "                if grid[i][j]=='1' and (i,j) not in visited:\n",
    "                    bfs(i,j)\n",
    "                    result += 1\n",
    "                \n",
    "        return result\n",
    "            \n",
    "            "
   ]
  }
 ],
 "metadata": {
  "kernelspec": {
   "display_name": "base",
   "language": "python",
   "name": "python3"
  },
  "language_info": {
   "codemirror_mode": {
    "name": "ipython",
    "version": 3
   },
   "file_extension": ".py",
   "mimetype": "text/x-python",
   "name": "python",
   "nbconvert_exporter": "python",
   "pygments_lexer": "ipython3",
   "version": "3.9.13"
  },
  "orig_nbformat": 4
 },
 "nbformat": 4,
 "nbformat_minor": 2
}
