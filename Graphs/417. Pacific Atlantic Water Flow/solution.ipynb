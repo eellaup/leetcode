{
 "cells": [
  {
   "cell_type": "markdown",
   "metadata": {},
   "source": [
    "# [LeetCode 417. Pacific Atlantic Water Flow](https://leetcode.com/problems/pacific-atlantic-water-flow/)"
   ]
  },
  {
   "cell_type": "markdown",
   "metadata": {},
   "source": [
    "Time Complexity: O(n*m)\n",
    "\n",
    "Space Complexity: O(n*m)"
   ]
  },
  {
   "cell_type": "code",
   "execution_count": null,
   "metadata": {},
   "outputs": [],
   "source": [
    "class Solution:\n",
    "    def pacificAtlantic(self, heights: List[List[int]]) -> List[List[int]]:\n",
    "        row_num, col_num = len(heights), len(heights[0])\n",
    "\n",
    "        result = []\n",
    "        pac, atl = set(), set()\n",
    "\n",
    "        def dfs(row, col, visit, prevHeight):\n",
    "            if (row,col) in visit or \\\n",
    "                row not in range(row_num) or \\\n",
    "                col not in range(col_num) or \\\n",
    "                heights[row][col] < prevHeight:\n",
    "                    return\n",
    "\n",
    "            visit.add((row,col))\n",
    "            directions = [(1,0), (0,1), (-1,0), (0,-1)]\n",
    "            for di,dj in directions:\n",
    "                dfs(row+di, col+dj, visit, heights[row][col])\n",
    "\n",
    "        for row in range(row_num):\n",
    "            # pacific\n",
    "            dfs(row, 0, pac, heights[row][0])\n",
    "            # atlantic\n",
    "            dfs(row, col_num-1, atl, heights[row][col_num-1])\n",
    "\n",
    "        for col in range(col_num):\n",
    "            # pacific\n",
    "            dfs(0, col, pac, heights[0][col])\n",
    "            # atlantic\n",
    "            dfs(row_num-1, col, atl, heights[row_num-1][col])\n",
    "\n",
    "        for i,j in pac:\n",
    "            if (i,j) in atl:\n",
    "                result.append([i,j])\n",
    "\n",
    "        return result"
   ]
  }
 ],
 "metadata": {
  "kernelspec": {
   "display_name": "base",
   "language": "python",
   "name": "python3"
  },
  "language_info": {
   "codemirror_mode": {
    "name": "ipython",
    "version": 3
   },
   "file_extension": ".py",
   "mimetype": "text/x-python",
   "name": "python",
   "nbconvert_exporter": "python",
   "pygments_lexer": "ipython3",
   "version": "3.9.13"
  },
  "orig_nbformat": 4
 },
 "nbformat": 4,
 "nbformat_minor": 2
}
