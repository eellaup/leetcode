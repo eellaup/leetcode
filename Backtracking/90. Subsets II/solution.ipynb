{
 "cells": [
  {
   "cell_type": "markdown",
   "metadata": {},
   "source": [
    "# [LeetCode 90. Subsets II](https://leetcode.com/problems/subsets-ii/description/)"
   ]
  },
  {
   "cell_type": "markdown",
   "metadata": {},
   "source": [
    "Time Complexity: O(n * 2^n)\n",
    "\n",
    "Space Complexity: O(2^n)"
   ]
  },
  {
   "cell_type": "code",
   "execution_count": null,
   "metadata": {},
   "outputs": [],
   "source": [
    "class Solution:\n",
    "    def subsetsWithDup(self, nums: List[int]) -> List[List[int]]:\n",
    "        result = []\n",
    "        nums.sort()\n",
    "\n",
    "        def backtrack(i=0, subset=[]):\n",
    "            if i >= len(nums):\n",
    "                result.append(subset[:])\n",
    "                return\n",
    "            \n",
    "            # left tree\n",
    "            subset.append(nums[i])\n",
    "            backtrack(i+1, subset)\n",
    "            subset.pop()\n",
    "\n",
    "            # right tree \n",
    "            while i+1 < len(nums) and nums[i]==nums[i+1]:\n",
    "                i += 1\n",
    "            backtrack(i+1, subset)\n",
    "\n",
    "        backtrack()\n",
    "        return result"
   ]
  }
 ],
 "metadata": {
  "kernelspec": {
   "display_name": "base",
   "language": "python",
   "name": "python3"
  },
  "language_info": {
   "codemirror_mode": {
    "name": "ipython",
    "version": 3
   },
   "file_extension": ".py",
   "mimetype": "text/x-python",
   "name": "python",
   "nbconvert_exporter": "python",
   "pygments_lexer": "ipython3",
   "version": "3.9.13"
  },
  "orig_nbformat": 4
 },
 "nbformat": 4,
 "nbformat_minor": 2
}
