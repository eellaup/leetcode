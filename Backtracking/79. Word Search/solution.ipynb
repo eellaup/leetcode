{
 "cells": [
  {
   "cell_type": "markdown",
   "metadata": {},
   "source": [
    "# [LeetCode 79. Word Search](https://leetcode.com/problems/word-search/description/)"
   ]
  },
  {
   "cell_type": "markdown",
   "metadata": {},
   "source": [
    "Time Complexity: O(n*m*4^n)\n",
    "\n",
    "Space Complexity: O(n)"
   ]
  },
  {
   "cell_type": "code",
   "execution_count": null,
   "metadata": {},
   "outputs": [],
   "source": [
    "class Solution:\n",
    "    def exist(self, board: List[List[str]], word: str) -> bool:\n",
    "        ROW, COL = len(board), len(board[0])\n",
    "        path = set()\n",
    "        def backtrack(i=0, r=0, c=0):\n",
    "            if i==len(word):\n",
    "                return True\n",
    "            if r not in range(ROW) or \\\n",
    "                c not in range(COL) or \\\n",
    "                word[i] != board[r][c] or \\\n",
    "                (r,c) in path:\n",
    "                    return False\n",
    "            \n",
    "            path.add((r,c))\n",
    "            result = backtrack(i+1, r+1, c) or \\\n",
    "                backtrack(i+1, r, c+1) or \\\n",
    "                backtrack(i+1, r-1, c) or  \\\n",
    "                backtrack(i+1, r, c-1) \n",
    "            path.remove((r,c))\n",
    "\n",
    "            return result\n",
    "        \n",
    "        for r in range(ROW):\n",
    "            for c in range(COL):\n",
    "                if backtrack(r=r,c=c): return True\n",
    "\n",
    "        return False"
   ]
  }
 ],
 "metadata": {
  "kernelspec": {
   "display_name": "base",
   "language": "python",
   "name": "python3"
  },
  "language_info": {
   "codemirror_mode": {
    "name": "ipython",
    "version": 3
   },
   "file_extension": ".py",
   "mimetype": "text/x-python",
   "name": "python",
   "nbconvert_exporter": "python",
   "pygments_lexer": "ipython3",
   "version": "3.9.13"
  },
  "orig_nbformat": 4
 },
 "nbformat": 4,
 "nbformat_minor": 2
}
