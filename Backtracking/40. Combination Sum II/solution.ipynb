{
 "cells": [
  {
   "cell_type": "markdown",
   "metadata": {},
   "source": [
    "# [LeetCode 40. Combination Sum II](https://leetcode.com/problems/combination-sum-ii/description/)"
   ]
  },
  {
   "cell_type": "markdown",
   "metadata": {},
   "source": [
    "Time Complexity: O(2^target)\n",
    "\n",
    "Space Complexity: O(2^target)"
   ]
  },
  {
   "cell_type": "code",
   "execution_count": null,
   "metadata": {},
   "outputs": [],
   "source": [
    "class Solution:\n",
    "    def combinationSum2(self, candidates: List[int], target: int) -> List[List[int]]:\n",
    "        result = []\n",
    "        candidates.sort()\n",
    "\n",
    "        def backtrack(i=0, subset=[], goal=target):\n",
    "            if goal==0:\n",
    "                result.append(subset[:])\n",
    "            if goal<=0:\n",
    "                return\n",
    "            \n",
    "            prev=-1\n",
    "            for i in range(i, len(candidates)):\n",
    "                if candidates[i]==prev:\n",
    "                    continue\n",
    "                subset.append(candidates[i])\n",
    "                backtrack(i+1, subset, goal-candidates[i])\n",
    "                subset.pop()\n",
    "                prev = candidates[i]\n",
    "\n",
    "        backtrack()\n",
    "        return result\n",
    "\n",
    "# class Solution:\n",
    "#     def combinationSum2(self, candidates: List[int], target: int) -> List[List[int]]:\n",
    "#         result = []\n",
    "#         candidates.sort()\n",
    "\n",
    "#         def backtrack(i=0, subset=[], total=0):\n",
    "#             if total==target:\n",
    "#                 result.append(subset[:])\n",
    "#                 return\n",
    "#             if i>=len(candidates) or total>target:\n",
    "#                 return\n",
    "            \n",
    "#             subset.append(candidates[i])\n",
    "#             backtrack(i+1, subset, total+candidates[i])\n",
    "#             subset.pop()\n",
    "\n",
    "#             while i+1<len(candidates) and candidates[i]==candidates[i+1]:\n",
    "#                 i += 1\n",
    "#             backtrack(i+1, subset, total)\n",
    "            \n",
    "#         backtrack()\n",
    "#         return result"
   ]
  }
 ],
 "metadata": {
  "kernelspec": {
   "display_name": "base",
   "language": "python",
   "name": "python3"
  },
  "language_info": {
   "codemirror_mode": {
    "name": "ipython",
    "version": 3
   },
   "file_extension": ".py",
   "mimetype": "text/x-python",
   "name": "python",
   "nbconvert_exporter": "python",
   "pygments_lexer": "ipython3",
   "version": "3.9.13"
  },
  "orig_nbformat": 4
 },
 "nbformat": 4,
 "nbformat_minor": 2
}
