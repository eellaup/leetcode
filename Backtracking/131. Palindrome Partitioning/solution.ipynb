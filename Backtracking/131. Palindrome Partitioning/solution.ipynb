{
 "cells": [
  {
   "cell_type": "markdown",
   "metadata": {},
   "source": [
    "# [LeetCode 131. Palindrome Partitioning](https://leetcode.com/problems/palindrome-partitioning/)"
   ]
  },
  {
   "cell_type": "markdown",
   "metadata": {},
   "source": [
    "Time Complexity: O(2^n)\n",
    "\n",
    "Space Complexity: O(n)"
   ]
  },
  {
   "cell_type": "code",
   "execution_count": null,
   "metadata": {},
   "outputs": [],
   "source": [
    "class Solution:\n",
    "    def partition(self, s: str) -> List[List[str]]:\n",
    "        result = []\n",
    "        part = []\n",
    "\n",
    "        def isPali(l,r):\n",
    "            while l<r:\n",
    "                if s[l]!=s[r]: return False\n",
    "                l += 1\n",
    "                r -= 1\n",
    "            return True\n",
    "\n",
    "        def backtrack(i=0):\n",
    "            if i>=len(s):\n",
    "                result.append(part[:])\n",
    "                return\n",
    "            \n",
    "            for j in range(i, len(s)):\n",
    "                if isPali(i, j):\n",
    "                    part.append(s[i:j+1])\n",
    "                    backtrack(j+1)\n",
    "                    part.pop()\n",
    "\n",
    "        \n",
    "        backtrack()\n",
    "        return result"
   ]
  }
 ],
 "metadata": {
  "kernelspec": {
   "display_name": "base",
   "language": "python",
   "name": "python3"
  },
  "language_info": {
   "codemirror_mode": {
    "name": "ipython",
    "version": 3
   },
   "file_extension": ".py",
   "mimetype": "text/x-python",
   "name": "python",
   "nbconvert_exporter": "python",
   "pygments_lexer": "ipython3",
   "version": "3.9.13"
  },
  "orig_nbformat": 4
 },
 "nbformat": 4,
 "nbformat_minor": 2
}
