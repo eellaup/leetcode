{
 "cells": [
  {
   "cell_type": "markdown",
   "metadata": {},
   "source": [
    "# [LeetCode 424. Longest Repeating Character Replacement](https://leetcode.com/problems/longest-repeating-character-replacement/)"
   ]
  },
  {
   "cell_type": "code",
   "execution_count": null,
   "metadata": {},
   "outputs": [],
   "source": [
    "class Solution:\n",
    "    def characterReplacement(self, s: str, k: int) -> int:\n",
    "        \n",
    "        cache = {}\n",
    "        \n",
    "        max_count = 0\n",
    "        max_freq = 0\n",
    "        l = 0\n",
    "\n",
    "        for r in range(len(s)):\n",
    "            cache[s[r]] = cache.get(s[r],0) + 1\n",
    "            max_freq = max(max_freq, cache[s[r]])\n",
    "\n",
    "            while ((r-l+1) - max_freq) > k:\n",
    "                cache[s[l]] -= 1\n",
    "                l += 1\n",
    "            \n",
    "            max_count = max(max_count, r-l+1)\n",
    "        return max_count"
   ]
  }
 ],
 "metadata": {
  "kernelspec": {
   "display_name": "base",
   "language": "python",
   "name": "python3"
  },
  "language_info": {
   "codemirror_mode": {
    "name": "ipython",
    "version": 3
   },
   "file_extension": ".py",
   "mimetype": "text/x-python",
   "name": "python",
   "nbconvert_exporter": "python",
   "pygments_lexer": "ipython3",
   "version": "3.9.13"
  },
  "orig_nbformat": 4
 },
 "nbformat": 4,
 "nbformat_minor": 2
}
