{
 "cells": [
  {
   "cell_type": "markdown",
   "metadata": {},
   "source": [
    "# [LeetCode 567. Permutation in String](https://leetcode.com/problems/permutation-in-string/)"
   ]
  },
  {
   "cell_type": "markdown",
   "metadata": {},
   "source": [
    "### O(n) technically O(26) + O(n)"
   ]
  },
  {
   "cell_type": "code",
   "execution_count": null,
   "metadata": {},
   "outputs": [],
   "source": [
    "class Solution:\n",
    "    def checkInclusion(self, s1: str, s2: str) -> bool:\n",
    "        # edge case\n",
    "        if len(s2) < len(s1): return False\n",
    "\n",
    "        c1, c2 = {}, {}\n",
    "\n",
    "        for i in range(len(s1)):\n",
    "            c1[s1[i]] = c1.get(s1[i], 0) + 1\n",
    "            c2[s2[i]] = c2.get(s2[i], 0) + 1\n",
    "        \n",
    "        score = 0 \n",
    "        for i in range(ord('a'), ord('a')+26):\n",
    "            if c1.get(chr(i),0) == c2.get(chr(i),0):\n",
    "                score += 1\n",
    "\n",
    "        l = 0\n",
    "        for r in range(len(s1), len(s2)):\n",
    "\n",
    "            if score == 26: return True\n",
    "\n",
    "            c2[s2[l]] -= 1\n",
    "            if c2[s2[l]] == c1.get(s2[l], 0):\n",
    "                score += 1\n",
    "            elif c2[s2[l]] + 1 == c1.get(s2[l], 0):\n",
    "                score -= 1\n",
    "\n",
    "            c2[s2[r]] = c2.get(s2[r],0) + 1\n",
    "            if c2[s2[r]] == c1.get(s2[r],0):\n",
    "                score += 1\n",
    "            elif c2[s2[r]] - 1 == c1.get(s2[r],0):\n",
    "                score -= 1\n",
    "            \n",
    "            l += 1\n",
    "        \n",
    "        return score == 26"
   ]
  },
  {
   "cell_type": "markdown",
   "metadata": {},
   "source": [
    "### O(n^2) Solution: But Easier to Code"
   ]
  },
  {
   "cell_type": "code",
   "execution_count": null,
   "metadata": {},
   "outputs": [],
   "source": [
    "class Solution:\n",
    "    def checkInclusion(self, s1: str, s2: str) -> bool:\n",
    "        \n",
    "        s1 = sorted(s1)\n",
    "\n",
    "        for i in range(len(s1), len(s2)+1):\n",
    "            if s1 == sorted(s2[i-len(s1):i]):\n",
    "                return True\n",
    "        return False"
   ]
  }
 ],
 "metadata": {
  "kernelspec": {
   "display_name": "base",
   "language": "python",
   "name": "python3"
  },
  "language_info": {
   "codemirror_mode": {
    "name": "ipython",
    "version": 3
   },
   "file_extension": ".py",
   "mimetype": "text/x-python",
   "name": "python",
   "nbconvert_exporter": "python",
   "pygments_lexer": "ipython3",
   "version": "3.9.13"
  },
  "orig_nbformat": 4
 },
 "nbformat": 4,
 "nbformat_minor": 2
}
