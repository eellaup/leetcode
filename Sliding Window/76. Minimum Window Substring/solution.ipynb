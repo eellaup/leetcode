{
 "cells": [
  {
   "cell_type": "markdown",
   "metadata": {},
   "source": [
    "# [LeetCode 76. Minimum Window Substring](https://leetcode.com/problems/minimum-window-substring/description/)"
   ]
  },
  {
   "cell_type": "code",
   "execution_count": null,
   "metadata": {},
   "outputs": [],
   "source": [
    "class Solution:\n",
    "    def minWindow(self, s: str, t: str) -> str:\n",
    "        if not t: return ''\n",
    "\n",
    "        countT, window = {}, {}\n",
    "\n",
    "        for c in t:\n",
    "            countT[c] = countT.get(c, 0) + 1\n",
    "\n",
    "        have, need = 0, len(countT)\n",
    "        res, resLen = [-1,-1], float('inf')\n",
    "        l = 0\n",
    "        for r,c in enumerate(s):\n",
    "            window[c] = window.get(c,0) + 1\n",
    "            \n",
    "            # change occured\n",
    "            if c in countT and window[c] == countT[c]:\n",
    "                have += 1\n",
    "            \n",
    "            # drop left \n",
    "            while have==need:\n",
    "                if (r-l) < resLen:\n",
    "                    resLen = r-l\n",
    "                    res = [l,r]\n",
    "                window[s[l]] -= 1\n",
    "                if s[l] in countT and window[s[l]] == countT[s[l]]-1:\n",
    "                    have -= 1\n",
    "                l += 1\n",
    "        \n",
    "        l,r = res\n",
    "        return s[l:r+1] if resLen != float('inf') else ''\n"
   ]
  }
 ],
 "metadata": {
  "kernelspec": {
   "display_name": "base",
   "language": "python",
   "name": "python3"
  },
  "language_info": {
   "codemirror_mode": {
    "name": "ipython",
    "version": 3
   },
   "file_extension": ".py",
   "mimetype": "text/x-python",
   "name": "python",
   "nbconvert_exporter": "python",
   "pygments_lexer": "ipython3",
   "version": "3.9.13"
  },
  "orig_nbformat": 4
 },
 "nbformat": 4,
 "nbformat_minor": 2
}
