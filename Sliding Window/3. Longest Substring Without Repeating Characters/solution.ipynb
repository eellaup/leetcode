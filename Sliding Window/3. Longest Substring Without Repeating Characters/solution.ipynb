{
 "cells": [
  {
   "cell_type": "markdown",
   "metadata": {},
   "source": [
    "# [LeetCode 3. Longest Subsring Without Repeating Characters](https://leetcode.com/problems/longest-substring-without-repeating-characters/)"
   ]
  },
  {
   "cell_type": "code",
   "execution_count": null,
   "metadata": {},
   "outputs": [],
   "source": [
    "class Solution:\n",
    "    def lengthOfLongestSubstring(self, s: str) -> int:\n",
    "\n",
    "        l = 0\n",
    "        cache = set()\n",
    "        max_count = 0\n",
    "\n",
    "        for r in range(0, len(s)):\n",
    "            while s[r] in cache:\n",
    "                cache.remove(s[l])\n",
    "                l += 1\n",
    "            cache.add(s[r])\n",
    "            max_count = max(max_count, r-l+1)\n",
    "        \n",
    "        return max_count"
   ]
  }
 ],
 "metadata": {
  "kernelspec": {
   "display_name": "base",
   "language": "python",
   "name": "python3"
  },
  "language_info": {
   "codemirror_mode": {
    "name": "ipython",
    "version": 3
   },
   "file_extension": ".py",
   "mimetype": "text/x-python",
   "name": "python",
   "nbconvert_exporter": "python",
   "pygments_lexer": "ipython3",
   "version": "3.9.13"
  },
  "orig_nbformat": 4
 },
 "nbformat": 4,
 "nbformat_minor": 2
}
