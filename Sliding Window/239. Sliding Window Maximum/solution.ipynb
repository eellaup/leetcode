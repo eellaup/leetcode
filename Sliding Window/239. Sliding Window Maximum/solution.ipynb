{
 "cells": [
  {
   "cell_type": "markdown",
   "metadata": {},
   "source": [
    "# [LeetCode 239. Sliding Window Maxiumum](https://leetcode.com/problems/sliding-window-maximum/description/)"
   ]
  },
  {
   "cell_type": "markdown",
   "metadata": {},
   "source": [
    "Time Complexity: O(n)\n",
    "\n",
    "Space Complexity: O(k)"
   ]
  },
  {
   "cell_type": "code",
   "execution_count": null,
   "metadata": {},
   "outputs": [],
   "source": [
    "from collections import deque\n",
    "class Solution:\n",
    "    def maxSlidingWindow(self, nums: List[int], k: int) -> List[int]:\n",
    "        q = deque()\n",
    "        result = []\n",
    "        l = r = 0\n",
    "\n",
    "        while r < len(nums):\n",
    "            num = nums[r]\n",
    "            # pop smaller values from q\n",
    "            while q and nums[q[-1]] < num:\n",
    "                q.pop()\n",
    "\n",
    "            q.append(r)\n",
    "\n",
    "            # remove left if out of window\n",
    "            if l > q[0]:\n",
    "                q.popleft()\n",
    "            \n",
    "            # only execute after initial k \n",
    "            if (r+1) >= k:\n",
    "                result.append(nums[q[0]])\n",
    "                l += 1\n",
    "\n",
    "            r += 1\n",
    "        return result\n"
   ]
  }
 ],
 "metadata": {
  "kernelspec": {
   "display_name": "base",
   "language": "python",
   "name": "python3"
  },
  "language_info": {
   "codemirror_mode": {
    "name": "ipython",
    "version": 3
   },
   "file_extension": ".py",
   "mimetype": "text/x-python",
   "name": "python",
   "nbconvert_exporter": "python",
   "pygments_lexer": "ipython3",
   "version": "3.9.13"
  },
  "orig_nbformat": 4
 },
 "nbformat": 4,
 "nbformat_minor": 2
}
