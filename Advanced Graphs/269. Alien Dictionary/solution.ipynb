{
 "cells": [
  {
   "cell_type": "markdown",
   "metadata": {},
   "source": [
    "# [LeetCode 269. Alien Dictionary](https://www.lintcode.com/problem/892/description)"
   ]
  },
  {
   "cell_type": "code",
   "execution_count": null,
   "metadata": {},
   "outputs": [],
   "source": [
    "from typing import (\n",
    "    List,\n",
    ")\n",
    "\n",
    "class Solution:\n",
    "    \"\"\"\n",
    "    @param words: a list of words\n",
    "    @return: a string which is correct order\n",
    "    \"\"\"\n",
    "    def alien_order(self, words: List[str]) -> str:\n",
    "        # Write your code here\n",
    "        adj = {c:set() for w in words for c in w}\n",
    "\n",
    "        for i in range(len(words)-1):\n",
    "            w1, w2 = words[i], words[i+1]\n",
    "            minLen = min(len(w1), len(w2))\n",
    "            # edge case not valid\n",
    "            if len(w1) > len(w2) and w1[:minLen]==w2[:minLen]:\n",
    "                return ''\n",
    "            # update adjacency list\n",
    "            for j in range(minLen):\n",
    "                if w1[j]!=w2[j]:\n",
    "                    adj[w1[j]].add(w2[j])\n",
    "                    break\n",
    "        visit = {}\n",
    "        res = ''\n",
    "\n",
    "        # dfs\n",
    "        def dfs(c):\n",
    "            nonlocal res\n",
    "            if c in visit: return visit[c]\n",
    "\n",
    "            visit[c] = True\n",
    "            for a in adj[c]:\n",
    "                if dfs(a): return True\n",
    "            visit[c] = False\n",
    "\n",
    "            res = c + res\n",
    "\n",
    "        \n",
    "        for c in reversed(sorted(adj.keys())):\n",
    "            if dfs(c): return ''\n",
    "            \n",
    "        return res"
   ]
  }
 ],
 "metadata": {
  "kernelspec": {
   "display_name": "base",
   "language": "python",
   "name": "python3"
  },
  "language_info": {
   "codemirror_mode": {
    "name": "ipython",
    "version": 3
   },
   "file_extension": ".py",
   "mimetype": "text/x-python",
   "name": "python",
   "nbconvert_exporter": "python",
   "pygments_lexer": "ipython3",
   "version": "3.9.13"
  },
  "orig_nbformat": 4
 },
 "nbformat": 4,
 "nbformat_minor": 2
}
