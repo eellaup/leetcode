{
 "cells": [
  {
   "cell_type": "markdown",
   "metadata": {},
   "source": [
    "# [LeetCode 55. Jump Game](https://leetcode.com/problems/jump-game/description/)"
   ]
  },
  {
   "cell_type": "markdown",
   "metadata": {},
   "source": [
    "Time Complexity: O(n)\n",
    "\n",
    "Space Complexity: O(1)"
   ]
  },
  {
   "cell_type": "code",
   "execution_count": null,
   "metadata": {},
   "outputs": [],
   "source": [
    "class Solution:\n",
    "    def canJump(self, nums: List[int]) -> bool:\n",
    "        goalDist = 1\n",
    "        for i in range(len(nums)-2, -1, -1):\n",
    "            if nums[i] >= goalDist:\n",
    "                goalDist = 1\n",
    "            else:\n",
    "                goalDist += 1\n",
    "            \n",
    "        return goalDist==1\n",
    "\n",
    "        # goal = len(nums)-1\n",
    "\n",
    "        # for i in range(len(nums)-1, -1, -1):\n",
    "        #     if i+nums[i] >= goal:\n",
    "        #         goal = i\n",
    "        # return goal==0"
   ]
  }
 ],
 "metadata": {
  "kernelspec": {
   "display_name": "base",
   "language": "python",
   "name": "python3"
  },
  "language_info": {
   "codemirror_mode": {
    "name": "ipython",
    "version": 3
   },
   "file_extension": ".py",
   "mimetype": "text/x-python",
   "name": "python",
   "nbconvert_exporter": "python",
   "pygments_lexer": "ipython3",
   "version": "3.9.13"
  },
  "orig_nbformat": 4
 },
 "nbformat": 4,
 "nbformat_minor": 2
}
