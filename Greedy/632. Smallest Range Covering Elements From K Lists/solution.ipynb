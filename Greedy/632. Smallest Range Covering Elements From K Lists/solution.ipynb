{
 "cells": [
  {
   "cell_type": "markdown",
   "metadata": {},
   "source": [
    "# [LeetCode 632. Smallest Range Covering Elements from K Lists](https://leetcode.com/problems/smallest-range-covering-elements-from-k-lists/description/)"
   ]
  },
  {
   "cell_type": "markdown",
   "metadata": {},
   "source": [
    "Time Complexity: O(nlogk)\n",
    "\n",
    "Space Complexity: O(k)"
   ]
  },
  {
   "cell_type": "code",
   "execution_count": null,
   "metadata": {},
   "outputs": [],
   "source": [
    "class Solution:\n",
    "    def smallestRange(self, nums: List[List[int]]) -> List[int]:\n",
    "        vals = []\n",
    "\n",
    "        for i in range(len(nums)):\n",
    "            vals.append((nums[i].pop(0), i))\n",
    "\n",
    "        heapq.heapify(vals)\n",
    "        output = [vals[0][0], heapq.nlargest(1,vals)[0][0]]\n",
    "        minRange = output[1] - output[0]\n",
    "\n",
    "        while 1:\n",
    "            small, large = vals[0][0], heapq.nlargest(1,vals)[0][0]\n",
    "            if large-small < minRange:\n",
    "                output = [small, large]\n",
    "                minRange = large-small\n",
    "\n",
    "            _,index = heapq.heappop(vals)\n",
    "\n",
    "            if not nums[index]:\n",
    "                return output\n",
    "            \n",
    "            heapq.heappush(vals, (nums[index].pop(0), index))"
   ]
  }
 ],
 "metadata": {
  "kernelspec": {
   "display_name": "base",
   "language": "python",
   "name": "python3"
  },
  "language_info": {
   "codemirror_mode": {
    "name": "ipython",
    "version": 3
   },
   "file_extension": ".py",
   "mimetype": "text/x-python",
   "name": "python",
   "nbconvert_exporter": "python",
   "pygments_lexer": "ipython3",
   "version": "3.9.13"
  },
  "orig_nbformat": 4
 },
 "nbformat": 4,
 "nbformat_minor": 2
}
