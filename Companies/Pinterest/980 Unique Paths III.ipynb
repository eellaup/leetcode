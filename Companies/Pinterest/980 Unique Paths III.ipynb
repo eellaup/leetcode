{
 "cells": [
  {
   "cell_type": "markdown",
   "metadata": {},
   "source": [
    "# [980. Unique Paths III](https://leetcode.com/problems/unique-paths-iii/)"
   ]
  },
  {
   "cell_type": "markdown",
   "metadata": {},
   "source": [
    "Time Complexity: ??\n",
    "\n",
    "Space Complexity: ??"
   ]
  },
  {
   "cell_type": "code",
   "execution_count": null,
   "metadata": {},
   "outputs": [],
   "source": [
    "class Solution:\n",
    "    def uniquePathsIII(self, grid: List[List[int]]) -> int:\n",
    "        ROW, COL = len(grid), len(grid[0])\n",
    "        sr, sc, zeros = 0, 0, 0\n",
    "\n",
    "        for r in range(ROW):\n",
    "            for c in range(COL):\n",
    "                if grid[r][c]==1:\n",
    "                    sr, sc = r, c\n",
    "                elif grid[r][c]==0:\n",
    "                    zeros += 1\n",
    "\n",
    "        def dfs(r=sr,c=sc,zeros=zeros):\n",
    "            if (\n",
    "                r < 0 or r>=ROW or\n",
    "                c < 0 or c>=COL or\n",
    "                grid[r][c]==-1\n",
    "            ):\n",
    "                return 0\n",
    "            \n",
    "            if grid[r][c] == 2:\n",
    "                return 1 if zeros<0 else 0\n",
    "            \n",
    "            zeros -= 1\n",
    "            grid[r][c] = -1\n",
    "            res = 0\n",
    "            d = [(1,0),(0,1),(-1,0),(0,-1)]\n",
    "            for dr,dc in d:\n",
    "                rr = r + dr\n",
    "                cc = c + dc\n",
    "                res += dfs(rr,cc,zeros)\n",
    "            grid[r][c] = 0\n",
    "            return res\n",
    "\n",
    "        return dfs() \n"
   ]
  }
 ],
 "metadata": {
  "kernelspec": {
   "display_name": "base",
   "language": "python",
   "name": "python3"
  },
  "language_info": {
   "codemirror_mode": {
    "name": "ipython",
    "version": 3
   },
   "file_extension": ".py",
   "mimetype": "text/x-python",
   "name": "python",
   "nbconvert_exporter": "python",
   "pygments_lexer": "ipython3",
   "version": "3.9.13"
  },
  "orig_nbformat": 4
 },
 "nbformat": 4,
 "nbformat_minor": 2
}
