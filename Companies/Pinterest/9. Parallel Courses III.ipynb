{
 "cells": [
  {
   "cell_type": "markdown",
   "metadata": {},
   "source": [
    "# [2050. Parallel Courses III](https://leetcode.com/problems/parallel-courses-iii/)"
   ]
  },
  {
   "cell_type": "markdown",
   "metadata": {},
   "source": [
    "Time Complexity: O(V + E)\n",
    "\n",
    "Space Complexity: O(V)"
   ]
  },
  {
   "cell_type": "code",
   "execution_count": null,
   "metadata": {},
   "outputs": [],
   "source": [
    "class Solution:\n",
    "    def minimumTime(self, n: int, relations: List[List[int]], time: List[int]) -> int:\n",
    "        preReq = defaultdict(list)\n",
    "        for c1,c2 in relations:\n",
    "            preReq[c2-1].append(c1-1)\n",
    "        \n",
    "        visit = {}\n",
    "\n",
    "        def dfs(courseId):\n",
    "            if courseId in visit:\n",
    "                return visit[courseId]\n",
    "            \n",
    "            if not preReq[courseId]:\n",
    "                visit[courseId] = time[courseId]\n",
    "                return visit[courseId]\n",
    "            \n",
    "            totalTime = 0\n",
    "            for c in preReq[courseId]:\n",
    "                totalTime = max(totalTime, dfs(c))\n",
    "            \n",
    "            visit[courseId] = totalTime + time[courseId]\n",
    "            return visit[courseId]\n",
    "\n",
    "        res = float('-inf')\n",
    "        for courseId in range(n):\n",
    "            res = max(res, dfs(courseId))\n",
    "        return res"
   ]
  }
 ],
 "metadata": {
  "kernelspec": {
   "display_name": "base",
   "language": "python",
   "name": "python3"
  },
  "language_info": {
   "codemirror_mode": {
    "name": "ipython",
    "version": 3
   },
   "file_extension": ".py",
   "mimetype": "text/x-python",
   "name": "python",
   "nbconvert_exporter": "python",
   "pygments_lexer": "ipython3",
   "version": "3.9.13"
  },
  "orig_nbformat": 4
 },
 "nbformat": 4,
 "nbformat_minor": 2
}
