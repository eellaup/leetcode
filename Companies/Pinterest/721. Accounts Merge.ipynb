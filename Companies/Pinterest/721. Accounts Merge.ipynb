{
 "cells": [
  {
   "cell_type": "markdown",
   "metadata": {},
   "source": [
    "# [721. Accounts Merge](https://leetcode.com/problems/accounts-merge/)"
   ]
  },
  {
   "cell_type": "markdown",
   "metadata": {},
   "source": [
    "Time Complexity: \n",
    "\n",
    "Space Complexity:"
   ]
  },
  {
   "cell_type": "code",
   "execution_count": null,
   "metadata": {},
   "outputs": [],
   "source": [
    "class UnionFind:\n",
    "    def __init__(self, n):\n",
    "        self.par = [i for i in range(n)]\n",
    "        self.rank = [1] * n\n",
    "    \n",
    "    def find(self, x):\n",
    "        while x != self.par[x]:\n",
    "            self.par[x] == self.par[self.par[x]]\n",
    "            x = self.par[x]\n",
    "        return x\n",
    "    \n",
    "    def union(self, x1, x2):\n",
    "        p1,p2 = self.find(x1), self.find(x2)\n",
    "        if p1==p2:\n",
    "            return False\n",
    "        if self.rank[p1] > self.rank[p2]:\n",
    "            self.par[p2] = p1\n",
    "            self.rank[p1] += self.rank[p2]\n",
    "        else:\n",
    "            self.par[p1] = p2\n",
    "            self.rank[p2] += self.rank[p1]\n",
    "        return True\n",
    "\n",
    "class Solution:\n",
    "    def accountsMerge(self, accounts: List[List[str]]) -> List[List[str]]:\n",
    "        uf = UnionFind(len(accounts))\n",
    "\n",
    "        emailToAccId = {}\n",
    "        for i,acc in enumerate(accounts):\n",
    "            for e in acc[1:]:\n",
    "                if e in emailToAccId:\n",
    "                    uf.union(i, emailToAccId[e])\n",
    "                else:\n",
    "                    emailToAccId[e] = i\n",
    "\n",
    "        accId2email = defaultdict(list)\n",
    "        for email, accId in emailToAccId.items():\n",
    "            mainAccId = uf.find(accId)\n",
    "            accId2email[mainAccId].append(email)\n",
    "\n",
    "        res = []\n",
    "        for accId, emailList in accId2email.items():\n",
    "            res.append([accounts[accId][0]] + sorted(emailList))\n",
    "\n",
    "        return res"
   ]
  }
 ],
 "metadata": {
  "kernelspec": {
   "display_name": "base",
   "language": "python",
   "name": "python3"
  },
  "language_info": {
   "codemirror_mode": {
    "name": "ipython",
    "version": 3
   },
   "file_extension": ".py",
   "mimetype": "text/x-python",
   "name": "python",
   "nbconvert_exporter": "python",
   "pygments_lexer": "ipython3",
   "version": "3.9.13"
  },
  "orig_nbformat": 4
 },
 "nbformat": 4,
 "nbformat_minor": 2
}
