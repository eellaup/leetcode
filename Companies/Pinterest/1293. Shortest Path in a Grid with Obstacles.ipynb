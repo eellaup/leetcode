{
 "cells": [
  {
   "cell_type": "markdown",
   "metadata": {},
   "source": [
    "# [1293. Shortest Path in a Grid with Obstacles Elimination](https://leetcode.com/problems/shortest-path-in-a-grid-with-obstacles-elimination/)"
   ]
  },
  {
   "cell_type": "markdown",
   "metadata": {},
   "source": [
    "Time Complexity: ??\n",
    "\n",
    "Space Complexity: ??"
   ]
  },
  {
   "cell_type": "code",
   "execution_count": null,
   "metadata": {},
   "outputs": [],
   "source": [
    "class Solution:\n",
    "    def shortestPath(self, grid: List[List[int]], k: int) -> int:\n",
    "        \n",
    "        ROW, COL = len(grid), len(grid[0])\n",
    "\n",
    "        steps = []\n",
    "        # (cost, k, row, col)\n",
    "        heapq.heappush(steps, (0,0,ROW-1,COL-1))\n",
    "\n",
    "        visit = set((ROW-1,COL-1))\n",
    "\n",
    "        while steps:\n",
    "            cost, k_rem, r, c = heapq.heappop(steps)\n",
    "            if r==0 and c==0:\n",
    "                return cost\n",
    "            while steps and (r,c) in visit:\n",
    "                cost, k_rem, r, c = heapq.heappop(steps)\n",
    "            visit.add((r,c))\n",
    "            d = [(1,0),(0,1),(-1,0),(0,-1)]\n",
    "\n",
    "            for dr,dc in d:\n",
    "                rr = r + dr\n",
    "                cc = c + dc\n",
    "\n",
    "                if (rr<0 or rr>=ROW or \n",
    "                    cc<0 or cc>=COL or \n",
    "                    (rr,cc) in visit or\n",
    "                    (grid[rr][cc] and k_rem==k) \n",
    "                ):\n",
    "                    continue\n",
    "                heapq.heappush(steps, (cost+1, k_rem+grid[rr][cc], rr, cc))\n",
    "            \n",
    "        return -1"
   ]
  }
 ],
 "metadata": {
  "kernelspec": {
   "display_name": "base",
   "language": "python",
   "name": "python3"
  },
  "language_info": {
   "codemirror_mode": {
    "name": "ipython",
    "version": 3
   },
   "file_extension": ".py",
   "mimetype": "text/x-python",
   "name": "python",
   "nbconvert_exporter": "python",
   "pygments_lexer": "ipython3",
   "version": "3.9.13"
  },
  "orig_nbformat": 4
 },
 "nbformat": 4,
 "nbformat_minor": 2
}
