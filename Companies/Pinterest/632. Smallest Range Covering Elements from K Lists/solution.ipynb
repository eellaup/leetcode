{
 "cells": [
  {
   "cell_type": "markdown",
   "metadata": {},
   "source": [
    "# [LeetCode 632. Smallest Range Covering Elements from K Lists](https://leetcode.com/problems/smallest-range-covering-elements-from-k-lists/)"
   ]
  },
  {
   "cell_type": "markdown",
   "metadata": {},
   "source": [
    "Time Complexity: ??\n",
    "\n",
    "Space Complexity: O(n)"
   ]
  },
  {
   "cell_type": "code",
   "execution_count": null,
   "metadata": {},
   "outputs": [],
   "source": [
    "class Solution:\n",
    "    def smallestRange(self, nums: List[List[int]]) -> List[int]:\n",
    "        res, resMin = [-1,-1], float('inf')\n",
    "\n",
    "        h = []\n",
    "\n",
    "        for i in range(len(nums)):\n",
    "            heapq.heappush(h, (nums[i].pop(0), i))\n",
    "\n",
    "        while 1:\n",
    "            low,high = h[0][0], max(h)[0]\n",
    "            if (high-low) < resMin:\n",
    "                resMin = high-low\n",
    "                res = [low,high]\n",
    "            \n",
    "            _,i = heapq.heappop(h)\n",
    "\n",
    "            if not nums[i]:\n",
    "                return res\n",
    "            \n",
    "            heapq.heappush(h, (nums[i].pop(0), i))\n"
   ]
  }
 ],
 "metadata": {
  "kernelspec": {
   "display_name": "base",
   "language": "python",
   "name": "python3"
  },
  "language_info": {
   "codemirror_mode": {
    "name": "ipython",
    "version": 3
   },
   "file_extension": ".py",
   "mimetype": "text/x-python",
   "name": "python",
   "nbconvert_exporter": "python",
   "pygments_lexer": "ipython3",
   "version": "3.9.13"
  },
  "orig_nbformat": 4
 },
 "nbformat": 4,
 "nbformat_minor": 2
}
