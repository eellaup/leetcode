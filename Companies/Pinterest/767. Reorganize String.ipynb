{
 "cells": [
  {
   "cell_type": "markdown",
   "metadata": {},
   "source": [
    "# [767. Reorganize String](https://leetcode.com/problems/reorganize-string/)"
   ]
  },
  {
   "cell_type": "markdown",
   "metadata": {},
   "source": [
    "Time Complexity: ??\n",
    "\n",
    "Space Complexity: ??"
   ]
  },
  {
   "cell_type": "code",
   "execution_count": null,
   "metadata": {},
   "outputs": [],
   "source": [
    "class Solution:\n",
    "    def reorganizeString(self, s: str) -> str:\n",
    "        maxHeap = [(-cnt,c) for c,cnt in Counter(s).items()]\n",
    "        heapq.heapify(maxHeap)\n",
    "\n",
    "        prev = None\n",
    "        res = ''\n",
    "        while maxHeap or prev:\n",
    "            if not maxHeap:\n",
    "                return ''\n",
    "\n",
    "            cnt, c = heapq.heappop(maxHeap)\n",
    "            res += c\n",
    "\n",
    "            if prev:\n",
    "                heapq.heappush(maxHeap, prev)\n",
    "            \n",
    "            cnt += 1\n",
    "            prev = (cnt, c) if cnt else None\n",
    "\n",
    "        return res"
   ]
  }
 ],
 "metadata": {
  "kernelspec": {
   "display_name": "base",
   "language": "python",
   "name": "python3"
  },
  "language_info": {
   "codemirror_mode": {
    "name": "ipython",
    "version": 3
   },
   "file_extension": ".py",
   "mimetype": "text/x-python",
   "name": "python",
   "nbconvert_exporter": "python",
   "pygments_lexer": "ipython3",
   "version": "3.9.13"
  },
  "orig_nbformat": 4
 },
 "nbformat": 4,
 "nbformat_minor": 2
}
