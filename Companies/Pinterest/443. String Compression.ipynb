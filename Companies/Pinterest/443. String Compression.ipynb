{
 "cells": [
  {
   "cell_type": "markdown",
   "metadata": {},
   "source": [
    "# [443. String Compression](https://leetcode.com/problems/string-compression/)"
   ]
  },
  {
   "cell_type": "markdown",
   "metadata": {},
   "source": [
    "Time Complexity: O(n)\n",
    "\n",
    "Space Complexity: (n)"
   ]
  },
  {
   "cell_type": "code",
   "execution_count": null,
   "metadata": {},
   "outputs": [],
   "source": [
    "class Solution:\n",
    "    def compress(self, chars: List[str]) -> int:\n",
    "        prev = chars.pop(0)\n",
    "        count=1\n",
    "\n",
    "        for i in range(len(chars)):\n",
    "            c = chars.pop(0)\n",
    "\n",
    "            if c==prev:\n",
    "                count += 1\n",
    "            else:\n",
    "                chars.append(prev)\n",
    "                if count>1:\n",
    "                    for n in str(count):\n",
    "                        chars.append(n)\n",
    "                prev = c\n",
    "                count = 1\n",
    "        chars.append(prev)\n",
    "        if count>1:\n",
    "            for n in str(count):\n",
    "                chars.append(n)\n",
    "        return len(chars)"
   ]
  }
 ],
 "metadata": {
  "kernelspec": {
   "display_name": "base",
   "language": "python",
   "name": "python3"
  },
  "language_info": {
   "codemirror_mode": {
    "name": "ipython",
    "version": 3
   },
   "file_extension": ".py",
   "mimetype": "text/x-python",
   "name": "python",
   "nbconvert_exporter": "python",
   "pygments_lexer": "ipython3",
   "version": "3.9.13"
  },
  "orig_nbformat": 4
 },
 "nbformat": 4,
 "nbformat_minor": 2
}
