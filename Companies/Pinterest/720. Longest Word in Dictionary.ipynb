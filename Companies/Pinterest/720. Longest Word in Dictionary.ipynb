{
 "cells": [
  {
   "cell_type": "markdown",
   "metadata": {},
   "source": [
    "# [720. Longest Word in Dictionary](https://leetcode.com/problems/longest-word-in-dictionary/)"
   ]
  },
  {
   "cell_type": "markdown",
   "metadata": {},
   "source": [
    "Time Complexity: O(n)\n",
    "\n",
    "Space Complexity: (On)"
   ]
  },
  {
   "cell_type": "code",
   "execution_count": null,
   "metadata": {},
   "outputs": [],
   "source": [
    "class Solution:\n",
    "    def longestWord(self, words: List[str]) -> str:\n",
    "        # sort\n",
    "        words = sorted(words, key=lambda x: (-len(x),x))\n",
    "        wordset = set(words)\n",
    "\n",
    "        for word in words:\n",
    "            temp = ''\n",
    "            for c in word:\n",
    "                temp += c\n",
    "                if temp not in wordset:\n",
    "                    break\n",
    "            if temp==word:\n",
    "                return word\n",
    "        \n",
    "        return ''"
   ]
  }
 ],
 "metadata": {
  "kernelspec": {
   "display_name": "base",
   "language": "python",
   "name": "python3"
  },
  "language_info": {
   "codemirror_mode": {
    "name": "ipython",
    "version": 3
   },
   "file_extension": ".py",
   "mimetype": "text/x-python",
   "name": "python",
   "nbconvert_exporter": "python",
   "pygments_lexer": "ipython3",
   "version": "3.9.13"
  },
  "orig_nbformat": 4
 },
 "nbformat": 4,
 "nbformat_minor": 2
}
