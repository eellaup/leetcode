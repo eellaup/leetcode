{
 "cells": [
  {
   "cell_type": "markdown",
   "metadata": {},
   "source": [
    "# [1306. Jump Game III](https://leetcode.com/problems/jump-game-iii/)"
   ]
  },
  {
   "cell_type": "markdown",
   "metadata": {},
   "source": [
    "Time Complexity: O(n)\n",
    "\n",
    "Space Complexity: O(n)"
   ]
  },
  {
   "cell_type": "code",
   "execution_count": null,
   "metadata": {},
   "outputs": [],
   "source": [
    "class Solution:\n",
    "    def canReach(self, arr: List[int], start: int) -> bool:\n",
    "        \n",
    "        visit = set()\n",
    "        def dfs(i=start):\n",
    "            if i<0 or i>=len(arr) or i in visit:\n",
    "                return False\n",
    "            \n",
    "            if arr[i]==0:\n",
    "                return True\n",
    "\n",
    "            visit.add(i)\n",
    "\n",
    "            # right side\n",
    "            if dfs(i+arr[i]):\n",
    "                return True\n",
    "            if dfs(i-arr[i]):\n",
    "                return True\n",
    "            \n",
    "            return False\n",
    "\n",
    "        return dfs()"
   ]
  },
  {
   "cell_type": "code",
   "execution_count": null,
   "metadata": {},
   "outputs": [],
   "source": [
    "class Solution:\n",
    "    def canReach(self, arr: List[int], start: int) -> bool:\n",
    "        if start<0 or start>=len(arr) or arr[start]<0:\n",
    "            return False\n",
    "\n",
    "        if arr[start] == 0:\n",
    "            return True\n",
    "        \n",
    "        arr[start] = -arr[start]\n",
    "\n",
    "        return self.canReach(arr, start+arr[start]) or self.canReach(arr, start-arr[start])"
   ]
  }
 ],
 "metadata": {
  "kernelspec": {
   "display_name": "base",
   "language": "python",
   "name": "python3"
  },
  "language_info": {
   "codemirror_mode": {
    "name": "ipython",
    "version": 3
   },
   "file_extension": ".py",
   "mimetype": "text/x-python",
   "name": "python",
   "nbconvert_exporter": "python",
   "pygments_lexer": "ipython3",
   "version": "3.9.13"
  },
  "orig_nbformat": 4
 },
 "nbformat": 4,
 "nbformat_minor": 2
}
