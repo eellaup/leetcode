{
 "cells": [
  {
   "cell_type": "markdown",
   "metadata": {},
   "source": [
    "# [329. Longest Increasing Path in a Matrix](https://leetcode.com/problems/longest-increasing-path-in-a-matrix/)"
   ]
  },
  {
   "cell_type": "markdown",
   "metadata": {},
   "source": [
    "Time Complexity: ??\n",
    "\n",
    "Space Complexity: ??"
   ]
  },
  {
   "cell_type": "code",
   "execution_count": null,
   "metadata": {},
   "outputs": [],
   "source": [
    "class Solution:\n",
    "    def longestIncreasingPath(self, matrix: List[List[int]]) -> int:\n",
    "\n",
    "        ROW, COL = len(matrix), len(matrix[0])\n",
    "        cache = {}\n",
    "\n",
    "        def dfs(r=0, c=0):\n",
    "            if (r,c) in cache:\n",
    "                return cache[(r,c)]\n",
    "\n",
    "            score = 1\n",
    "            d = [(1,0),(0,1),(-1,0),(0,-1)]\n",
    "            for dr, dc in d:\n",
    "                if (\n",
    "                    (r+dr) >= 0 and (r+dr) < ROW and\n",
    "                    (c+dc) >= 0 and (c+dc) < COL and\n",
    "                    matrix[r][c] > matrix[r+dr][c+dc]\n",
    "                ):\n",
    "                    score = max(score, 1+dfs(r+dr, c+dc))\n",
    "            \n",
    "            cache[(r,c)] = score\n",
    "            return score\n",
    "\n",
    "        res = 0\n",
    "        for r in range(ROW):\n",
    "            for c in range(COL):\n",
    "                res = max(res, dfs(r,c))\n",
    "        return res"
   ]
  }
 ],
 "metadata": {
  "kernelspec": {
   "display_name": "base",
   "language": "python",
   "name": "python3"
  },
  "language_info": {
   "codemirror_mode": {
    "name": "ipython",
    "version": 3
   },
   "file_extension": ".py",
   "mimetype": "text/x-python",
   "name": "python",
   "nbconvert_exporter": "python",
   "pygments_lexer": "ipython3",
   "version": "3.9.13"
  },
  "orig_nbformat": 4
 },
 "nbformat": 4,
 "nbformat_minor": 2
}
