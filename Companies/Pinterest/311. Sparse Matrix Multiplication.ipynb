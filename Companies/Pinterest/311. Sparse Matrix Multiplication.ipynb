{
 "cells": [
  {
   "cell_type": "markdown",
   "metadata": {},
   "source": [
    "# [*311. Sparse Matrix Multiplication](https://www.lintcode.com/problem/654/)"
   ]
  },
  {
   "cell_type": "markdown",
   "metadata": {},
   "source": [
    "Time Complexity: ??\n",
    "\n",
    "Space Complexity: ??"
   ]
  },
  {
   "cell_type": "code",
   "execution_count": null,
   "metadata": {},
   "outputs": [],
   "source": [
    "class Solution:\n",
    "    def multiply(self, mat1: List[List[int]], mat2: List[List[int]]) -> List[List[int]]:\n",
    "        \n",
    "        A_ROW, A_COL = len(mat1), len(mat1[0])\n",
    "        B_ROW, B_COL = len(mat2), len(mat2[0])\n",
    "\n",
    "        res = [[0] * B_COL for _ in range(A_ROW)]\n",
    "\n",
    "        # A_COL == B_ROW\n",
    "        for a_r in range(A_ROW):\n",
    "            for a_c in range(A_COL):\n",
    "\n",
    "                if mat1[a_r][a_c] == 0: continue\n",
    "                \n",
    "                for b_c in range(B_COL):\n",
    "                    res[a_r][b_c] += mat1[a_r][a_c] * mat2[a_c][b_c]\n",
    "            \n",
    "\n",
    "        return res"
   ]
  }
 ],
 "metadata": {
  "kernelspec": {
   "display_name": "base",
   "language": "python",
   "name": "python3"
  },
  "language_info": {
   "codemirror_mode": {
    "name": "ipython",
    "version": 3
   },
   "file_extension": ".py",
   "mimetype": "text/x-python",
   "name": "python",
   "nbconvert_exporter": "python",
   "pygments_lexer": "ipython3",
   "version": "3.9.13"
  },
  "orig_nbformat": 4
 },
 "nbformat": 4,
 "nbformat_minor": 2
}
