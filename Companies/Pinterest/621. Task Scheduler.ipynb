{
 "cells": [
  {
   "cell_type": "markdown",
   "metadata": {},
   "source": [
    "# [621. Task Scheduler](https://leetcode.com/problems/task-scheduler/)"
   ]
  },
  {
   "cell_type": "markdown",
   "metadata": {},
   "source": [
    "Time Complexity: \n",
    "\n",
    "Space Complexity:"
   ]
  },
  {
   "cell_type": "code",
   "execution_count": null,
   "metadata": {},
   "outputs": [],
   "source": [
    "class Solution:\n",
    "    def leastInterval(self, tasks: List[str], n: int) -> int:\n",
    "        counter = {}\n",
    "        for t in tasks:\n",
    "            counter[t] = counter.get(t,0) + 1\n",
    "         \n",
    "        maxHeap = [-cnt for cnt in counter.values()]\n",
    "        heapq.heapify(maxHeap)\n",
    "\n",
    "        q = [] # (value, next time available)\n",
    "        t = 0\n",
    "\n",
    "        while maxHeap or q:\n",
    "            t += 1\n",
    "            \n",
    "            if maxHeap:\n",
    "                task = heapq.heappop(maxHeap) + 1\n",
    "                if task:\n",
    "                    q.append((task, t+n))\n",
    "            else:\n",
    "                t = q[0][1]\n",
    "\n",
    "            # task is ready\n",
    "            if q and q[0][1]<=t:\n",
    "                heapq.heappush(maxHeap, q.pop(0)[0])\n",
    "\n",
    "        return t"
   ]
  }
 ],
 "metadata": {
  "kernelspec": {
   "display_name": "base",
   "language": "python",
   "name": "python3"
  },
  "language_info": {
   "codemirror_mode": {
    "name": "ipython",
    "version": 3
   },
   "file_extension": ".py",
   "mimetype": "text/x-python",
   "name": "python",
   "nbconvert_exporter": "python",
   "pygments_lexer": "ipython3",
   "version": "3.9.13"
  },
  "orig_nbformat": 4
 },
 "nbformat": 4,
 "nbformat_minor": 2
}
