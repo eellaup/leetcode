{
 "cells": [
  {
   "cell_type": "markdown",
   "metadata": {},
   "source": [
    "# [LeetCode 2232. Minimize Result by Adding Parentheses to Expression](https://leetcode.com/problems/minimize-result-by-adding-parentheses-to-expression/)"
   ]
  },
  {
   "cell_type": "markdown",
   "metadata": {},
   "source": [
    "Time Complexity: O(n^2)\n",
    "\n",
    "Space Complexity: O(n)"
   ]
  },
  {
   "cell_type": "code",
   "execution_count": null,
   "metadata": {},
   "outputs": [],
   "source": [
    "class Solution:\n",
    "    def minimizeResult(self, expression: str) -> str:\n",
    "        n1,n2 = expression.split('+')\n",
    "\n",
    "        minVal = int(n1) + int(n2)\n",
    "        l, r = 0,len(n2)\n",
    "\n",
    "        for i in range(len(n1)):\n",
    "            for j in range(len(n2), 0,-1):\n",
    "                l_val = int(n1[:i]) if n1[:i] else 1\n",
    "                r_val = int(n2[j:]) if n2[j:] else 1\n",
    "                val = l_val * (int(n1[i:]) + int(n2[:j])) * r_val\n",
    "                if val < minVal:\n",
    "                    minVal = val\n",
    "                    l, r, = i, j\n",
    "\n",
    "        return f'{n1[:l]}({n1[l:]}+{n2[:r]}){n2[r:]}'"
   ]
  }
 ],
 "metadata": {
  "kernelspec": {
   "display_name": "base",
   "language": "python",
   "name": "python3"
  },
  "language_info": {
   "codemirror_mode": {
    "name": "ipython",
    "version": 3
   },
   "file_extension": ".py",
   "mimetype": "text/x-python",
   "name": "python",
   "nbconvert_exporter": "python",
   "pygments_lexer": "ipython3",
   "version": "3.9.13"
  },
  "orig_nbformat": 4
 },
 "nbformat": 4,
 "nbformat_minor": 2
}
