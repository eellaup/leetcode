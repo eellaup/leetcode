{
 "cells": [
  {
   "cell_type": "markdown",
   "metadata": {},
   "source": [
    "# [*465. Optimal Account Balancing](https://leetcode.com/problems/optimal-account-balancing/description/)"
   ]
  },
  {
   "cell_type": "markdown",
   "metadata": {},
   "source": [
    "Time Complexity: ??\n",
    "\n",
    "Space Complexity: ??"
   ]
  },
  {
   "cell_type": "code",
   "execution_count": null,
   "metadata": {},
   "outputs": [],
   "source": [
    "class Solution:\n",
    "    def minTransfers(self, transactions: List[List[int]]) -> int:\n",
    "        \n",
    "        bank = {}\n",
    "\n",
    "        for s, r, amt in transactions:\n",
    "            bank[s] = bank.get(s,0) - amt\n",
    "            bank[r] = bank.get(r,0) + amt\n",
    "        \n",
    "        bal = [amt for amt in bank.values()]\n",
    "        n = len(bal)\n",
    "\n",
    "        def dfs(i=0):\n",
    "            while i<n and not bal[i]:\n",
    "                i += 1\n",
    "            if i==n:\n",
    "                return 0\n",
    "            \n",
    "            numTran = float('inf')\n",
    "            for nxt in range(i+1, n):\n",
    "                if bal[nxt]*bal[i] < 0:\n",
    "                    bal[nxt] += bal[i]\n",
    "                    numTran = min(numTran, 1+dfs(i+1))\n",
    "                    bal[nxt] -= bal[i]\n",
    "            return numTran\n",
    "        return dfs()"
   ]
  }
 ],
 "metadata": {
  "kernelspec": {
   "display_name": "base",
   "language": "python",
   "name": "python3"
  },
  "language_info": {
   "codemirror_mode": {
    "name": "ipython",
    "version": 3
   },
   "file_extension": ".py",
   "mimetype": "text/x-python",
   "name": "python",
   "nbconvert_exporter": "python",
   "pygments_lexer": "ipython3",
   "version": "3.9.13"
  },
  "orig_nbformat": 4
 },
 "nbformat": 4,
 "nbformat_minor": 2
}
