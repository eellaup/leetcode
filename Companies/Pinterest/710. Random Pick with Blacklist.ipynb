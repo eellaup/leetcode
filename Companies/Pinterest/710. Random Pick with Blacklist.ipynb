{
 "cells": [
  {
   "cell_type": "markdown",
   "metadata": {},
   "source": [
    "# [710. Random Pick with Blacklist](https://leetcode.com/problems/random-pick-with-blacklist/)"
   ]
  },
  {
   "cell_type": "markdown",
   "metadata": {},
   "source": [
    "Time Complexity: ??\n",
    "\n",
    "Space Complexity: ??"
   ]
  },
  {
   "cell_type": "code",
   "execution_count": null,
   "metadata": {},
   "outputs": [],
   "source": [
    "class Solution:\n",
    "\n",
    "    def __init__(self, n: int, blacklist: List[int]):\n",
    "        blacklist = set(blacklist)\n",
    "        self.n = n - len(blacklist)\n",
    "        key, val = [], []\n",
    "        for x in blacklist:\n",
    "            if x < self.n:\n",
    "                key.append(x)\n",
    "        for x in range(self.n, n):\n",
    "            if x not in blacklist:\n",
    "                val.append(x)\n",
    "        self.whitelist = dict(zip(key,val))\n",
    "        \n",
    "    def pick(self) -> int:\n",
    "        randIndex = randint(0, self.n-1)\n",
    "        return self.whitelist.get(randIndex, randIndex)\n",
    "\n",
    "\n",
    "# Your Solution object will be instantiated and called as such:\n",
    "# obj = Solution(n, blacklist)\n",
    "# param_1 = obj.pick()"
   ]
  }
 ],
 "metadata": {
  "kernelspec": {
   "display_name": "base",
   "language": "python",
   "name": "python3"
  },
  "language_info": {
   "codemirror_mode": {
    "name": "ipython",
    "version": 3
   },
   "file_extension": ".py",
   "mimetype": "text/x-python",
   "name": "python",
   "nbconvert_exporter": "python",
   "pygments_lexer": "ipython3",
   "version": "3.9.13"
  },
  "orig_nbformat": 4
 },
 "nbformat": 4,
 "nbformat_minor": 2
}
