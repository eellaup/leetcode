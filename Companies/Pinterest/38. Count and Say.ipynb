{
 "cells": [
  {
   "cell_type": "markdown",
   "metadata": {},
   "source": [
    "# [LeetCode 38. Count and Say](https://leetcode.com/problems/count-and-say/description/)"
   ]
  },
  {
   "cell_type": "markdown",
   "metadata": {},
   "source": [
    "Time Complexity: ??\n",
    "\n",
    "Space Complexity: ??"
   ]
  },
  {
   "cell_type": "code",
   "execution_count": null,
   "metadata": {},
   "outputs": [],
   "source": [
    "class Solution:\n",
    "    def countAndSay(self, n: int) -> str:\n",
    "        if n==1: return '1'\n",
    "\n",
    "        res = ''\n",
    "        count, prev = 0, None\n",
    "\n",
    "        s = self.countAndSay(n-1)\n",
    "\n",
    "        for c in s:\n",
    "            if c==prev:\n",
    "                count += 1\n",
    "                continue\n",
    "            if prev:\n",
    "                res += f'{count}{prev}'\n",
    "            prev = c\n",
    "            count = 1\n",
    "        \n",
    "        res += f'{count}{prev}'\n",
    "\n",
    "        return res"
   ]
  }
 ],
 "metadata": {
  "kernelspec": {
   "display_name": "base",
   "language": "python",
   "name": "python3"
  },
  "language_info": {
   "codemirror_mode": {
    "name": "ipython",
    "version": 3
   },
   "file_extension": ".py",
   "mimetype": "text/x-python",
   "name": "python",
   "nbconvert_exporter": "python",
   "pygments_lexer": "ipython3",
   "version": "3.9.13"
  },
  "orig_nbformat": 4
 },
 "nbformat": 4,
 "nbformat_minor": 2
}
