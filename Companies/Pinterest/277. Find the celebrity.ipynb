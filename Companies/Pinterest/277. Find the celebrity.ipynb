{
 "cells": [
  {
   "cell_type": "markdown",
   "metadata": {},
   "source": [
    "# [*277. Find the Celebrity](https://www.lintcode.com/problem/645/)"
   ]
  },
  {
   "cell_type": "markdown",
   "metadata": {},
   "source": [
    "Time Complexity: ??\n",
    "\n",
    "Space Complexity: ??"
   ]
  },
  {
   "cell_type": "code",
   "execution_count": null,
   "metadata": {},
   "outputs": [],
   "source": [
    "\"\"\"\n",
    "The knows API is already defined for you.\n",
    "@param a, person a\n",
    "@param b, person b\n",
    "@return a boolean, whether a knows b\n",
    "you can call Celebrity.knows(a, b)\n",
    "\"\"\"\n",
    "\n",
    "\n",
    "class Solution:\n",
    "    # @param {int} n a party with n people\n",
    "    # @return {int} the celebrity's label or -1\n",
    "    def findCelebrity(self, n):\n",
    "        # Write your code here\n",
    "        c = 0\n",
    "        for p in range(1,n):\n",
    "            if Celebrity.knows(c,p):\n",
    "                c = p\n",
    "        \n",
    "        for p in range(n):\n",
    "            if (p!=c and Celebrity.knows(c,p)) or not Celebrity.knows(p,c):\n",
    "                return -1\n",
    "        return c"
   ]
  }
 ],
 "metadata": {
  "kernelspec": {
   "display_name": "base",
   "language": "python",
   "name": "python3"
  },
  "language_info": {
   "codemirror_mode": {
    "name": "ipython",
    "version": 3
   },
   "file_extension": ".py",
   "mimetype": "text/x-python",
   "name": "python",
   "nbconvert_exporter": "python",
   "pygments_lexer": "ipython3",
   "version": "3.9.13"
  },
  "orig_nbformat": 4
 },
 "nbformat": 4,
 "nbformat_minor": 2
}
