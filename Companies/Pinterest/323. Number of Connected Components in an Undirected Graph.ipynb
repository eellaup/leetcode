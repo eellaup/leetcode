{
 "cells": [
  {
   "cell_type": "markdown",
   "metadata": {},
   "source": [
    "# [*323. Number of Connected Components in an Undirected Graph](https://www.lintcode.com/problem/3651/)"
   ]
  },
  {
   "cell_type": "markdown",
   "metadata": {},
   "source": [
    "Time Complexity: ??\n",
    "\n",
    "Space Complexity: ??"
   ]
  },
  {
   "cell_type": "code",
   "execution_count": null,
   "metadata": {},
   "outputs": [],
   "source": [
    "from typing import (\n",
    "    List,\n",
    ")\n",
    "\n",
    "class UnionFind:\n",
    "    def __init__(self,n):\n",
    "        self.par = [i for i in range(n)]\n",
    "        self.rank = [1] * n\n",
    "    \n",
    "    def find(self,x):\n",
    "        while x!=self.par[x]:\n",
    "            self.par[x] = self.par[self.par[x]]\n",
    "            x = self.par[x]\n",
    "        return x\n",
    "    \n",
    "    def union(self,x1,x2):\n",
    "        p1, p2 = self.find(x1), self.find(x2)\n",
    "        if p1==p2:\n",
    "            return False\n",
    "        if self.rank[p1] > self.rank[p2]:\n",
    "            self.par[p2] = p1\n",
    "            self.rank[x1] += self.rank[x2]\n",
    "        else:\n",
    "            self.par[p1] = p2\n",
    "            self.rank[x2] += self.rank[x1]\n",
    "        return True\n",
    "\n",
    "class Solution:\n",
    "    \"\"\"\n",
    "    @param n: the number of vertices\n",
    "    @param edges: the edges of undirected graph\n",
    "    @return: the number of connected components\n",
    "    \"\"\"\n",
    "    def count_components(self, n: int, edges: List[List[int]]) -> int:\n",
    "        uf = UnionFind(n)\n",
    "        for n1,n2 in edges:\n",
    "            uf.union(n1,n2)\n",
    "        \n",
    "        return len(set(uf.find(x) for x in range(n)))"
   ]
  }
 ],
 "metadata": {
  "kernelspec": {
   "display_name": "base",
   "language": "python",
   "name": "python3"
  },
  "language_info": {
   "codemirror_mode": {
    "name": "ipython",
    "version": 3
   },
   "file_extension": ".py",
   "mimetype": "text/x-python",
   "name": "python",
   "nbconvert_exporter": "python",
   "pygments_lexer": "ipython3",
   "version": "3.9.13"
  },
  "orig_nbformat": 4
 },
 "nbformat": 4,
 "nbformat_minor": 2
}
