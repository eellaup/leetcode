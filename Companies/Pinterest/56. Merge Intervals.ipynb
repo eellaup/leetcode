{
 "cells": [
  {
   "cell_type": "markdown",
   "metadata": {},
   "source": [
    "# [56. Merge Intervals](https://leetcode.com/problems/merge-intervals/)"
   ]
  },
  {
   "cell_type": "markdown",
   "metadata": {},
   "source": [
    "Time Complexity: O(nlogn)\n",
    "\n",
    "Space Complexity: (n)"
   ]
  },
  {
   "cell_type": "code",
   "execution_count": null,
   "metadata": {},
   "outputs": [],
   "source": [
    "class Solution:\n",
    "    def merge(self, intervals: List[List[int]]) -> List[List[int]]:\n",
    "\n",
    "        intervals.sort()\n",
    "\n",
    "        output = [intervals[0]]\n",
    "        for s,e in intervals[1:]:\n",
    "            lastEnd = output[-1][1]\n",
    "\n",
    "            if lastEnd < s:\n",
    "                output.append([s,e])\n",
    "            else:\n",
    "                output[-1][1] = max(lastEnd, e)\n",
    "        return output"
   ]
  }
 ],
 "metadata": {
  "kernelspec": {
   "display_name": "base",
   "language": "python",
   "name": "python3"
  },
  "language_info": {
   "codemirror_mode": {
    "name": "ipython",
    "version": 3
   },
   "file_extension": ".py",
   "mimetype": "text/x-python",
   "name": "python",
   "nbconvert_exporter": "python",
   "pygments_lexer": "ipython3",
   "version": "3.9.13"
  },
  "orig_nbformat": 4
 },
 "nbformat": 4,
 "nbformat_minor": 2
}
