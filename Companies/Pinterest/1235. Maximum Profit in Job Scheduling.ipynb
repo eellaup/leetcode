{
 "cells": [
  {
   "cell_type": "markdown",
   "metadata": {},
   "source": [
    "# [1235. Maximum Profit in Job Scheduling](https://leetcode.com/problems/maximum-profit-in-job-scheduling/)"
   ]
  },
  {
   "cell_type": "markdown",
   "metadata": {},
   "source": [
    "Time Complexity: ??\n",
    "\n",
    "Space Complexity: ??"
   ]
  },
  {
   "cell_type": "code",
   "execution_count": null,
   "metadata": {},
   "outputs": [],
   "source": [
    "class Solution:\n",
    "    def jobScheduling(self, startTime: List[int], endTime: List[int], profit: List[int]) -> int:\n",
    "        task = sorted(zip(startTime, endTime, profit))\n",
    "        visit = {}\n",
    "\n",
    "        def dfs(i=0):\n",
    "            if i>=len(task):\n",
    "                return 0\n",
    "            if i in visit:\n",
    "                return visit[i]\n",
    "            \n",
    "            start, end, profit = task[i]\n",
    "            l,r = 0, len(task)-1\n",
    "            # binary search to find next task\n",
    "            while l<=r:\n",
    "                m = (l+r)//2\n",
    "                s,e,p = task[m]\n",
    "                if s<end:\n",
    "                    l = m+1\n",
    "                else:\n",
    "                    r = m-1\n",
    "            res = max(dfs(i+1), profit + dfs(l))\n",
    "            visit[i] = res\n",
    "            return res\n",
    "\n",
    "        return dfs()"
   ]
  }
 ],
 "metadata": {
  "kernelspec": {
   "display_name": "base",
   "language": "python",
   "name": "python3"
  },
  "language_info": {
   "codemirror_mode": {
    "name": "ipython",
    "version": 3
   },
   "file_extension": ".py",
   "mimetype": "text/x-python",
   "name": "python",
   "nbconvert_exporter": "python",
   "pygments_lexer": "ipython3",
   "version": "3.9.13"
  },
  "orig_nbformat": 4
 },
 "nbformat": 4,
 "nbformat_minor": 2
}
