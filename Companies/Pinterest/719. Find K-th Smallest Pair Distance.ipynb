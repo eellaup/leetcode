{
 "cells": [
  {
   "cell_type": "markdown",
   "metadata": {},
   "source": [
    "# [719. Find K-th Smallest Pair Distance](https://leetcode.com/problems/find-k-th-smallest-pair-distance/)"
   ]
  },
  {
   "cell_type": "markdown",
   "metadata": {},
   "source": [
    "Time Complexity: O(nlogn + nlognlogn)\n",
    "\n",
    "Space Complexity: O(n)"
   ]
  },
  {
   "cell_type": "code",
   "execution_count": null,
   "metadata": {},
   "outputs": [],
   "source": [
    "class Solution:\n",
    "    def smallestDistancePair(self, nums: List[int], k: int) -> int:\n",
    "        nums.sort()\n",
    "\n",
    "        def pairs(diff):\n",
    "            l, count = 0, 0 \n",
    "            for r in range(len(nums)):\n",
    "                while nums[r]-nums[l] > diff:\n",
    "                    l += 1\n",
    "                count += (r-l)\n",
    "            return count\n",
    "        \n",
    "        low, high = 0, nums[-1]-nums[0]\n",
    "        while low < high:\n",
    "            mid = (high+low)//2\n",
    "            if pairs(mid) < k:\n",
    "                low = mid+1\n",
    "            else:\n",
    "                high = mid\n",
    "        return low"
   ]
  }
 ],
 "metadata": {
  "kernelspec": {
   "display_name": "base",
   "language": "python",
   "name": "python3"
  },
  "language_info": {
   "codemirror_mode": {
    "name": "ipython",
    "version": 3
   },
   "file_extension": ".py",
   "mimetype": "text/x-python",
   "name": "python",
   "nbconvert_exporter": "python",
   "pygments_lexer": "ipython3",
   "version": "3.9.13"
  },
  "orig_nbformat": 4
 },
 "nbformat": 4,
 "nbformat_minor": 2
}
