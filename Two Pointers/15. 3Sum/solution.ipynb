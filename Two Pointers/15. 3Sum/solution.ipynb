{
 "cells": [
  {
   "cell_type": "code",
   "execution_count": 4,
   "metadata": {},
   "outputs": [],
   "source": [
    "class Solution:\n",
    "    def threeSum(self, nums):\n",
    "        nums = sorted(nums)\n",
    "        output = []\n",
    "\n",
    "        for i in range(len(nums)-2):\n",
    "            if nums[i] > 0:\n",
    "                break\n",
    "            \n",
    "            if i > 0 and nums[i]==nums[i-1]:\n",
    "                continue\n",
    "            \n",
    "            l = i + 1\n",
    "            r = len(nums)-1\n",
    "\n",
    "            while l < r:\n",
    "                total = nums[i] + nums[l] + nums[r]\n",
    "\n",
    "                if total < 0:\n",
    "                    l += 1\n",
    "                elif total > 0:\n",
    "                    r -= 1\n",
    "                else:\n",
    "                    output.append([nums[i], nums[l], nums[r]])\n",
    "                    while l<r and nums[l]==output[-1][1]:\n",
    "                        l += 1\n",
    "                    while l<r and nums[r]==output[-1][2]:\n",
    "                        r -= 1\n",
    "                        \n",
    "        return output"
   ]
  }
 ],
 "metadata": {
  "kernelspec": {
   "display_name": "base",
   "language": "python",
   "name": "python3"
  },
  "language_info": {
   "codemirror_mode": {
    "name": "ipython",
    "version": 3
   },
   "file_extension": ".py",
   "mimetype": "text/x-python",
   "name": "python",
   "nbconvert_exporter": "python",
   "pygments_lexer": "ipython3",
   "version": "3.9.13"
  },
  "orig_nbformat": 4
 },
 "nbformat": 4,
 "nbformat_minor": 2
}
