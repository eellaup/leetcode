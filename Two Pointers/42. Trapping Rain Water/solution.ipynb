{
 "cells": [
  {
   "cell_type": "markdown",
   "metadata": {},
   "source": [
    "# [LeetCode 42. Trapping Rain Water](https://leetcode.com/problems/trapping-rain-water/)"
   ]
  },
  {
   "cell_type": "code",
   "execution_count": null,
   "metadata": {},
   "outputs": [],
   "source": [
    "class Solution:\n",
    "    def trap(self, height) -> int:\n",
    "        l = 0\n",
    "        r = len(height)-1\n",
    "\n",
    "        max_l = height[l]\n",
    "        max_r = height[r]\n",
    "\n",
    "        total = 0\n",
    "\n",
    "        while l<r:\n",
    "            if height[l] < height[r]:\n",
    "                l += 1\n",
    "                if max_l > height[l]:\n",
    "                    total += max_l - height[l]\n",
    "                else:\n",
    "                    max_l = height[l] \n",
    "            else:\n",
    "                r -= 1\n",
    "                if max_r > height[r]:\n",
    "                    total += max_r - height[r]\n",
    "                else:\n",
    "                    max_r = height[r]\n",
    "                    \n",
    "        return total"
   ]
  }
 ],
 "metadata": {
  "kernelspec": {
   "display_name": "base",
   "language": "python",
   "name": "python3"
  },
  "language_info": {
   "codemirror_mode": {
    "name": "ipython",
    "version": 3
   },
   "file_extension": ".py",
   "mimetype": "text/x-python",
   "name": "python",
   "nbconvert_exporter": "python",
   "pygments_lexer": "ipython3",
   "version": "3.9.13"
  },
  "orig_nbformat": 4
 },
 "nbformat": 4,
 "nbformat_minor": 2
}
