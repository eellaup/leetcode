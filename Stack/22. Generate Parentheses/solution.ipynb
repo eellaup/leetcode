{
 "cells": [
  {
   "cell_type": "markdown",
   "metadata": {},
   "source": [
    "# [LeetCode 22. Generate Parentheses](https://leetcode.com/problems/generate-parentheses/description/)"
   ]
  },
  {
   "cell_type": "markdown",
   "metadata": {},
   "source": [
    "Time Complexity: O(n)\n",
    "\n",
    "Space Complexity: O(n)"
   ]
  },
  {
   "cell_type": "code",
   "execution_count": null,
   "metadata": {},
   "outputs": [],
   "source": [
    "class Solution:\n",
    "    def generateParenthesis(self, n: int) -> List[str]:\n",
    "        o,c = n, n\n",
    "        output = []\n",
    "\n",
    "        def dfs(s='',o=o,c=c):\n",
    "            if o==0 and c==0:\n",
    "                output.append(s)\n",
    "            \n",
    "            if o>0:\n",
    "                dfs(s+'(',o-1,c)\n",
    "            \n",
    "            if c>o:\n",
    "                dfs(s+')',o,c-1)\n",
    "        \n",
    "        dfs()\n",
    "\n",
    "        return output"
   ]
  }
 ],
 "metadata": {
  "kernelspec": {
   "display_name": "base",
   "language": "python",
   "name": "python3"
  },
  "language_info": {
   "codemirror_mode": {
    "name": "ipython",
    "version": 3
   },
   "file_extension": ".py",
   "mimetype": "text/x-python",
   "name": "python",
   "nbconvert_exporter": "python",
   "pygments_lexer": "ipython3",
   "version": "3.9.13"
  },
  "orig_nbformat": 4
 },
 "nbformat": 4,
 "nbformat_minor": 2
}
