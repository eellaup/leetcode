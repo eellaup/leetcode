{
 "cells": [
  {
   "cell_type": "markdown",
   "metadata": {},
   "source": [
    "# [LeetCode 150. Evaluate Reverse Polish Notation](https://leetcode.com/problems/evaluate-reverse-polish-notation/)"
   ]
  },
  {
   "cell_type": "markdown",
   "metadata": {},
   "source": [
    "Time Complexity: O(n)\n",
    "\n",
    "Space Complexity: O(n)"
   ]
  },
  {
   "cell_type": "code",
   "execution_count": null,
   "metadata": {},
   "outputs": [],
   "source": [
    "class Solution:\n",
    "    def evalRPN(self, tokens: List[str]) -> int:\n",
    "        stack = []\n",
    "        op = '+-*/'\n",
    "        op = {\n",
    "            '+': (lambda y,x: x+y),\n",
    "            '-': (lambda y,x:x-y),\n",
    "            '*': (lambda y,x:x*y),\n",
    "            '/': (lambda y,x:int(x/y))\n",
    "        }\n",
    "\n",
    "        for t in tokens:\n",
    "            if t in op:\n",
    "                stack.append(op[t](stack.pop(),stack.pop()))\n",
    "            else:\n",
    "                stack.append(int(t))\n",
    "\n",
    "        return stack[0]"
   ]
  }
 ],
 "metadata": {
  "kernelspec": {
   "display_name": "base",
   "language": "python",
   "name": "python3"
  },
  "language_info": {
   "codemirror_mode": {
    "name": "ipython",
    "version": 3
   },
   "file_extension": ".py",
   "mimetype": "text/x-python",
   "name": "python",
   "nbconvert_exporter": "python",
   "pygments_lexer": "ipython3",
   "version": "3.9.13"
  },
  "orig_nbformat": 4
 },
 "nbformat": 4,
 "nbformat_minor": 2
}
