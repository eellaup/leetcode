{
 "cells": [
  {
   "cell_type": "markdown",
   "metadata": {},
   "source": [
    "# [LeetCode 853. Car Fleet](https://leetcode.com/problems/car-fleet/description//)"
   ]
  },
  {
   "cell_type": "markdown",
   "metadata": {},
   "source": [
    "Time Complexity: O(nlogn) -> because of sort\n",
    "\n",
    "Space Complexity: O(n)"
   ]
  },
  {
   "cell_type": "code",
   "execution_count": null,
   "metadata": {},
   "outputs": [],
   "source": [
    "class Solution:\n",
    "    def carFleet(self, target: int, position: List[int], speed: List[int]) -> int:\n",
    "        if not position: return 0\n",
    "        pair = sorted(zip(position,speed), key=lambda x: x[0])\n",
    "        # res = 1\n",
    "\n",
    "        # while len(pair)>1:\n",
    "        #     front = pair.pop()\n",
    "        #     back = pair.pop()\n",
    "\n",
    "        #     if (target-front[0])/front[1] >= (target-back[0])/back[1]:\n",
    "        #         pair.append(front)\n",
    "        #     else:\n",
    "        #         pair.append(back)\n",
    "        #         res += 1\n",
    "\n",
    "        # return res\n",
    "\n",
    "        stack = []\n",
    "        for p,s in pair[::-1]:\n",
    "            stack.append((target-p)/s)\n",
    "            if len(stack)>1 and stack[-1] <= stack[-2]:\n",
    "                stack.pop()\n",
    "        return len(stack)"
   ]
  }
 ],
 "metadata": {
  "kernelspec": {
   "display_name": "base",
   "language": "python",
   "name": "python3"
  },
  "language_info": {
   "codemirror_mode": {
    "name": "ipython",
    "version": 3
   },
   "file_extension": ".py",
   "mimetype": "text/x-python",
   "name": "python",
   "nbconvert_exporter": "python",
   "pygments_lexer": "ipython3",
   "version": "3.9.13"
  },
  "orig_nbformat": 4
 },
 "nbformat": 4,
 "nbformat_minor": 2
}
