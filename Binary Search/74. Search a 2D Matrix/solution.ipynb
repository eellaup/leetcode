{
 "cells": [
  {
   "cell_type": "markdown",
   "metadata": {},
   "source": [
    "# [LeetCode 74. Search a 2D Matrix](https://leetcode.com/problems/search-a-2d-matrix/)"
   ]
  },
  {
   "cell_type": "markdown",
   "metadata": {},
   "source": [
    "Time Complexity: O(logm + logn)\n",
    "\n",
    "Space Complexity: O(1)"
   ]
  },
  {
   "cell_type": "code",
   "execution_count": null,
   "metadata": {},
   "outputs": [],
   "source": [
    "class Solution:\n",
    "    def searchMatrix(self, matrix: List[List[int]], target: int) -> bool:\n",
    "        if not matrix: return False\n",
    "\n",
    "        l_row, r_row = 0, len(matrix)-1\n",
    "        l,r = 0, len(matrix[0])-1\n",
    "        \n",
    "        while l_row <= r_row:\n",
    "            mid_row = (l_row + r_row) // 2\n",
    "\n",
    "            if target > matrix[mid_row][-1]:\n",
    "                l_row = mid_row + 1\n",
    "            elif target < matrix[mid_row][0]:\n",
    "                r_row = mid_row - 1\n",
    "            else:\n",
    "                break\n",
    "        \n",
    "        if l_row > r_row: return False\n",
    "        mid_row = (l_row + r_row) // 2\n",
    "\n",
    "        while l <= r:\n",
    "            mid = l + int((r-l)/2)\n",
    "\n",
    "            if matrix[mid_row][mid] < target:\n",
    "                l = mid + 1\n",
    "            elif matrix[mid_row][mid] > target:\n",
    "                r = mid - 1\n",
    "            else:\n",
    "                return True\n",
    "\n",
    "        return False\n",
    "            "
   ]
  }
 ],
 "metadata": {
  "kernelspec": {
   "display_name": "base",
   "language": "python",
   "name": "python3"
  },
  "language_info": {
   "codemirror_mode": {
    "name": "ipython",
    "version": 3
   },
   "file_extension": ".py",
   "mimetype": "text/x-python",
   "name": "python",
   "nbconvert_exporter": "python",
   "pygments_lexer": "ipython3",
   "version": "3.9.13"
  },
  "orig_nbformat": 4
 },
 "nbformat": 4,
 "nbformat_minor": 2
}
