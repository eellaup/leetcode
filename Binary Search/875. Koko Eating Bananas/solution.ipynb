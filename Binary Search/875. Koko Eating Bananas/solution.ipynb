{
 "cells": [
  {
   "cell_type": "markdown",
   "metadata": {},
   "source": [
    "# [LeetCode 875. Koko Eating Bananas](https://leetcode.com/problems/koko-eating-bananas/description/)"
   ]
  },
  {
   "cell_type": "markdown",
   "metadata": {},
   "source": [
    "Time Complexity: O(log(max(p))*p)\n",
    "\n",
    "Space Complexity: O(1)"
   ]
  },
  {
   "cell_type": "code",
   "execution_count": null,
   "metadata": {},
   "outputs": [],
   "source": [
    "class Solution:\n",
    "    def minEatingSpeed(self, piles: List[int], h: int) -> int:\n",
    "        l, r = 1, max(piles)\n",
    "        result = r\n",
    "\n",
    "        def validK(k):\n",
    "            t = 0\n",
    "            for p in piles:\n",
    "                t += ceil(p/k)\n",
    "                if t > h:\n",
    "                    return False\n",
    "            if t <= h:\n",
    "                return True\n",
    "            return False\n",
    "        \n",
    "        while l<=r:\n",
    "            k = (l+r) // 2\n",
    "            if validK(k):\n",
    "                result = min(result, k)\n",
    "                r = k-1\n",
    "            else:\n",
    "                l = k+1\n",
    "        \n",
    "        return result"
   ]
  }
 ],
 "metadata": {
  "kernelspec": {
   "display_name": "base",
   "language": "python",
   "name": "python3"
  },
  "language_info": {
   "codemirror_mode": {
    "name": "ipython",
    "version": 3
   },
   "file_extension": ".py",
   "mimetype": "text/x-python",
   "name": "python",
   "nbconvert_exporter": "python",
   "pygments_lexer": "ipython3",
   "version": "3.9.13"
  },
  "orig_nbformat": 4
 },
 "nbformat": 4,
 "nbformat_minor": 2
}
