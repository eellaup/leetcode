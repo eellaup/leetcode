{
 "cells": [
  {
   "cell_type": "markdown",
   "metadata": {},
   "source": [
    "# [LeetCode 4. Median of Two Sorted Array](https://leetcode.com/problems/median-of-two-sorted-arrays/description/)"
   ]
  },
  {
   "cell_type": "markdown",
   "metadata": {},
   "source": [
    "Time Complexity: O(log(min(n,m)))\n",
    "\n",
    "Space Complexity: O(1)"
   ]
  },
  {
   "cell_type": "code",
   "execution_count": null,
   "metadata": {},
   "outputs": [],
   "source": [
    "class Solution:\n",
    "    def findMedianSortedArrays(self, nums1: List[int], nums2: List[int]) -> float:\n",
    "        A, B = nums1, nums2\n",
    "        TOTAL = len(A) + len(B)\n",
    "        HALF = TOTAL // 2\n",
    "\n",
    "        if len(B) < len(A):\n",
    "            A, B = B, A\n",
    "\n",
    "        l, r = 0, len(A)-1\n",
    "        while True:\n",
    "            m = (l+r)//2\n",
    "            rb = HALF - m - 2\n",
    "\n",
    "            A_LEFT = A[m] if m >= 0 else float('-inf')\n",
    "            A_RIGHT = A[m+1] if m+1 < len(A) else float('inf')\n",
    "            B_LEFT = B[rb] if rb >= 0 else float('-inf')\n",
    "            B_RIGHT = B[rb+1] if rb+1 < len(B) else float('inf')\n",
    "\n",
    "            # partitioned correctly\n",
    "            if A_LEFT <= B_RIGHT and B_LEFT <= A_RIGHT:\n",
    "                # odd\n",
    "                if TOTAL%2:\n",
    "                    return min(A_RIGHT, B_RIGHT)\n",
    "                else:\n",
    "                    return (max(A_LEFT, B_LEFT) + min(A_RIGHT, B_RIGHT)) / 2.0\n",
    "            \n",
    "            # needs more work\n",
    "            if A_LEFT > B_RIGHT:\n",
    "                r = m-1\n",
    "            else:\n",
    "                l = m+1\n",
    "        "
   ]
  }
 ],
 "metadata": {
  "kernelspec": {
   "display_name": "base",
   "language": "python",
   "name": "python3"
  },
  "language_info": {
   "codemirror_mode": {
    "name": "ipython",
    "version": 3
   },
   "file_extension": ".py",
   "mimetype": "text/x-python",
   "name": "python",
   "nbconvert_exporter": "python",
   "pygments_lexer": "ipython3",
   "version": "3.9.13"
  },
  "orig_nbformat": 4
 },
 "nbformat": 4,
 "nbformat_minor": 2
}
