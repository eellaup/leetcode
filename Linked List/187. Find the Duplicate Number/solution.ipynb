{
 "cells": [
  {
   "cell_type": "markdown",
   "metadata": {},
   "source": [
    "# [LeetCode 187. Find the Duplicate Number](https://leetcode.com/problems/find-the-duplicate-number/)"
   ]
  },
  {
   "cell_type": "markdown",
   "metadata": {},
   "source": [
    "Time Complexity: O(n)\n",
    "\n",
    "Space Complexity: O(1)"
   ]
  },
  {
   "cell_type": "code",
   "execution_count": null,
   "metadata": {},
   "outputs": [],
   "source": [
    "class Solution:\n",
    "    def findDuplicate(self, nums: List[int]) -> int:\n",
    "        # Floyd's Algorithm\n",
    "\n",
    "        # 1st point of intersection\n",
    "        slow, fast = 0, 0\n",
    "\n",
    "        while True:\n",
    "            slow = nums[slow] \n",
    "            fast = nums[nums[fast]] \n",
    "\n",
    "            if slow==fast:\n",
    "                break\n",
    "        \n",
    "        # 2nd point of intersection\n",
    "        head = 0\n",
    "        while True:\n",
    "            head = nums[head] \n",
    "            slow = nums[slow] \n",
    "\n",
    "            if head==slow:\n",
    "                return head"
   ]
  }
 ],
 "metadata": {
  "kernelspec": {
   "display_name": "base",
   "language": "python",
   "name": "python3"
  },
  "language_info": {
   "codemirror_mode": {
    "name": "ipython",
    "version": 3
   },
   "file_extension": ".py",
   "mimetype": "text/x-python",
   "name": "python",
   "nbconvert_exporter": "python",
   "pygments_lexer": "ipython3",
   "version": "3.9.13"
  },
  "orig_nbformat": 4
 },
 "nbformat": 4,
 "nbformat_minor": 2
}
