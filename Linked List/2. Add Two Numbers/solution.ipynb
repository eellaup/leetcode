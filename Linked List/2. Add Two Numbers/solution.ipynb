{
 "cells": [
  {
   "cell_type": "markdown",
   "metadata": {},
   "source": [
    "# [LeetCode 2. Add Two Numbers](https://leetcode.com/problems/add-two-numbers/)"
   ]
  },
  {
   "cell_type": "markdown",
   "metadata": {},
   "source": [
    "Time Complexity: O(n)\n",
    "\n",
    "Space Complexity: O(1)"
   ]
  },
  {
   "cell_type": "code",
   "execution_count": null,
   "metadata": {},
   "outputs": [],
   "source": [
    "# Definition for singly-linked list.\n",
    "# class ListNode:\n",
    "#     def __init__(self, val=0, next=None):\n",
    "#         self.val = val\n",
    "#         self.next = next\n",
    "class Solution:\n",
    "    def addTwoNumbers(self, l1: Optional[ListNode], l2: Optional[ListNode]) -> Optional[ListNode]:\n",
    "        dummy = ListNode()\n",
    "        node = dummy\n",
    "\n",
    "        rem = 0\n",
    "        while l1 or l2:\n",
    "            if l1 and l2:\n",
    "                node.next = ListNode(((l1.val + l2.val + rem) % 10))\n",
    "                rem = (l1.val + l2.val + rem) // 10\n",
    "                l1 = l1.next\n",
    "                l2 = l2.next\n",
    "            elif l1:\n",
    "                node.next = ListNode(((l1.val + rem) % 10))\n",
    "                rem = (l1.val + rem) // 10\n",
    "                l1 = l1.next\n",
    "            elif l2:\n",
    "                node.next = ListNode(((l2.val + rem) % 10))\n",
    "                rem = (l2.val + rem) // 10\n",
    "                l2 = l2.next\n",
    "            \n",
    "            node = node.next\n",
    "\n",
    "        if rem != 0:\n",
    "            node.next = ListNode(rem)\n",
    "            node = node.next\n",
    "            \n",
    "        return dummy.next"
   ]
  }
 ],
 "metadata": {
  "kernelspec": {
   "display_name": "base",
   "language": "python",
   "name": "python3"
  },
  "language_info": {
   "codemirror_mode": {
    "name": "ipython",
    "version": 3
   },
   "file_extension": ".py",
   "mimetype": "text/x-python",
   "name": "python",
   "nbconvert_exporter": "python",
   "pygments_lexer": "ipython3",
   "version": "3.9.13"
  },
  "orig_nbformat": 4
 },
 "nbformat": 4,
 "nbformat_minor": 2
}
