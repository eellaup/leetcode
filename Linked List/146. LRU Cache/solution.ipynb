{
 "cells": [
  {
   "cell_type": "markdown",
   "metadata": {},
   "source": [
    "# [LeetCode 146. LRU Cache](https://leetcode.com/problems/lru-cache/)"
   ]
  },
  {
   "cell_type": "markdown",
   "metadata": {},
   "source": [
    "Time Complexity: O(1)\n",
    "\n",
    "Space Complexity: O(n)"
   ]
  },
  {
   "cell_type": "code",
   "execution_count": null,
   "metadata": {},
   "outputs": [],
   "source": [
    "class Node:\n",
    "    def __init__(self, key=None, value=None):\n",
    "        self.key = key\n",
    "        self.value = value\n",
    "\n",
    "class LRUCache:\n",
    "\n",
    "    def __init__(self, capacity: int):\n",
    "        self.capacity = capacity\n",
    "        self.hash = {}\n",
    "        self.LRU, self.MRU = Node(), Node()\n",
    "        self.LRU.next, self.MRU.prev = self.MRU, self.LRU\n",
    "    \n",
    "    def remove(self, node: Node):\n",
    "        node.prev.next = node.next\n",
    "        node.next.prev = node.prev\n",
    "        del self.hash[node.key]\n",
    "    \n",
    "    def insert(self, node: Node):\n",
    "        self.MRU.prev.next = node\n",
    "        node.prev = self.MRU.prev\n",
    "        self.MRU.prev = node\n",
    "        node.next = self.MRU\n",
    "        self.hash[node.key] = node\n",
    "        \n",
    "    def get(self, key: int) -> int:\n",
    "        if key in self.hash:\n",
    "            # update MRU\n",
    "            node = self.hash[key]\n",
    "            self.remove(node)\n",
    "            self.insert(node)\n",
    "            return node.value\n",
    "        return -1\n",
    "\n",
    "    def put(self, key: int, value: int) -> None:\n",
    "        # 1. Update\n",
    "        if key in self.hash:\n",
    "            node = self.hash[key]\n",
    "            node.value = value\n",
    "\n",
    "            # update MRU\n",
    "            self.remove(node)\n",
    "            self.insert(node)\n",
    "        # 2. Add\n",
    "        else:\n",
    "            # Need to delete LRU\n",
    "            if len(self.hash) >= self.capacity:\n",
    "                # delete from hashmap\n",
    "                self.remove(self.LRU.next)\n",
    "            # Create datastructure\n",
    "            node = Node(key, value)\n",
    "            # Update Linked List\n",
    "            self.insert(node)\n",
    "\n",
    "# Your LRUCache object will be instantiated and called as such:\n",
    "# obj = LRUCache(capacity)\n",
    "# param_1 = obj.get(key)\n",
    "# obj.put(key,value)"
   ]
  }
 ],
 "metadata": {
  "kernelspec": {
   "display_name": "base",
   "language": "python",
   "name": "python3"
  },
  "language_info": {
   "codemirror_mode": {
    "name": "ipython",
    "version": 3
   },
   "file_extension": ".py",
   "mimetype": "text/x-python",
   "name": "python",
   "nbconvert_exporter": "python",
   "pygments_lexer": "ipython3",
   "version": "3.9.13"
  },
  "orig_nbformat": 4
 },
 "nbformat": 4,
 "nbformat_minor": 2
}
