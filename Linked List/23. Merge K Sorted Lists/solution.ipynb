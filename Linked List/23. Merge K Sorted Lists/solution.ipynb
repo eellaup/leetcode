{
 "cells": [
  {
   "cell_type": "markdown",
   "metadata": {},
   "source": [
    "# [LeetCode 23. Merge K Sorted Lists](https://leetcode.com/problems/merge-k-sorted-lists/)"
   ]
  },
  {
   "cell_type": "markdown",
   "metadata": {},
   "source": [
    "Time Complexity: O(nlogk)\n",
    "\n",
    "Space Complexity: O(nlogk)"
   ]
  },
  {
   "cell_type": "code",
   "execution_count": null,
   "metadata": {},
   "outputs": [],
   "source": [
    "# Definition for singly-linked list.\n",
    "# class ListNode:\n",
    "#     def __init__(self, val=0, next=None):\n",
    "#         self.val = val\n",
    "#         self.next = next\n",
    "class Solution:\n",
    "    def mergeKLists(self, lists: List[Optional[ListNode]]) -> Optional[ListNode]:\n",
    "        if not lists:\n",
    "            return None\n",
    "        \n",
    "        while len(lists) > 1:\n",
    "            mergedLists = []\n",
    "\n",
    "            for i in range(0, len(lists), 2):\n",
    "                l1 = lists[i]\n",
    "                l2 = lists[i+1] if i+1<len(lists) else None\n",
    "                mergedLists.append(self.mergeLists(l1,l2))\n",
    "            lists = mergedLists\n",
    "        \n",
    "        return lists[0]\n",
    "\n",
    "    def mergeLists(self, node1, node2):\n",
    "        dummy = ListNode()\n",
    "        tail = dummy\n",
    "        \n",
    "        while node1 and node2:\n",
    "            if node1.val < node2.val:\n",
    "                tail.next = node1\n",
    "                node1 = node1.next\n",
    "            else:\n",
    "                tail.next = node2\n",
    "                node2 = node2.next\n",
    "            tail = tail.next\n",
    "            \n",
    "        if node1:\n",
    "            tail.next = node1\n",
    "        if node2:\n",
    "            tail.next = node2\n",
    "        \n",
    "        return dummy.next\n",
    "            \n"
   ]
  }
 ],
 "metadata": {
  "kernelspec": {
   "display_name": "base",
   "language": "python",
   "name": "python3"
  },
  "language_info": {
   "codemirror_mode": {
    "name": "ipython",
    "version": 3
   },
   "file_extension": ".py",
   "mimetype": "text/x-python",
   "name": "python",
   "nbconvert_exporter": "python",
   "pygments_lexer": "ipython3",
   "version": "3.9.13"
  },
  "orig_nbformat": 4
 },
 "nbformat": 4,
 "nbformat_minor": 2
}
