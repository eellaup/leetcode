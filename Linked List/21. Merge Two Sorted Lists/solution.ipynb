{
 "cells": [
  {
   "cell_type": "markdown",
   "metadata": {},
   "source": [
    "# [LeetCode 21. Merge Two Sorted Lists](https://leetcode.com/problems/merge-two-sorted-lists/description/)"
   ]
  },
  {
   "cell_type": "markdown",
   "metadata": {},
   "source": [
    "Time Complexity: O(n)\n",
    "\n",
    "Space Complexity: O(n)"
   ]
  },
  {
   "cell_type": "code",
   "execution_count": null,
   "metadata": {},
   "outputs": [],
   "source": [
    "# Definition for singly-linked list.\n",
    "# class ListNode:\n",
    "#     def __init__(self, val=0, next=None):\n",
    "#         self.val = val\n",
    "#         self.next = next\n",
    "class Solution:\n",
    "    def mergeTwoLists(self, list1: Optional[ListNode], list2: Optional[ListNode]) -> Optional[ListNode]:\n",
    "        \n",
    "        dummy = ListNode()\n",
    "        node = dummy\n",
    "\n",
    "        node1 = list1\n",
    "        node2 = list2\n",
    "\n",
    "        while node1 and node2:\n",
    "            if node1.val < node2.val:\n",
    "                node.next = node1\n",
    "                node1 = node1.next\n",
    "            else:\n",
    "                node.next = node2\n",
    "                node2 = node2.next\n",
    "            \n",
    "            node = node.next\n",
    "\n",
    "        if node1:\n",
    "            node.next = node1\n",
    "        elif node2:\n",
    "            node.next = node2\n",
    "\n",
    "        return dummy.next\n",
    "\n",
    "            "
   ]
  }
 ],
 "metadata": {
  "kernelspec": {
   "display_name": "base",
   "language": "python",
   "name": "python3"
  },
  "language_info": {
   "codemirror_mode": {
    "name": "ipython",
    "version": 3
   },
   "file_extension": ".py",
   "mimetype": "text/x-python",
   "name": "python",
   "nbconvert_exporter": "python",
   "pygments_lexer": "ipython3",
   "version": "3.9.13"
  },
  "orig_nbformat": 4
 },
 "nbformat": 4,
 "nbformat_minor": 2
}
