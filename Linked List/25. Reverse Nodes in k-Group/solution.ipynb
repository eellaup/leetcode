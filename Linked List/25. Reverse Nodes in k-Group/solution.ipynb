{
 "cells": [
  {
   "cell_type": "markdown",
   "metadata": {},
   "source": [
    "# [LeetCode 25. Reverse Nodes in k-Group](https://leetcode.com/problems/reverse-nodes-in-k-group/description/)"
   ]
  },
  {
   "cell_type": "markdown",
   "metadata": {},
   "source": [
    "Time Complexity: O(n)\n",
    "\n",
    "Space Complexity: O(n)"
   ]
  },
  {
   "cell_type": "code",
   "execution_count": null,
   "metadata": {},
   "outputs": [],
   "source": [
    "# Definition for singly-linked list.\n",
    "# class ListNode:\n",
    "#     def __init__(self, val=0, next=None):\n",
    "#         self.val = val\n",
    "#         self.next = next\n",
    "class Solution:\n",
    "    def reverseKGroup(self, head: Optional[ListNode], k: int) -> Optional[ListNode]:\n",
    "        dummy = ListNode(next=head)\n",
    "        groupPrev = dummy\n",
    "\n",
    "        while 1:\n",
    "            kth = groupPrev\n",
    "\n",
    "            # get kth node\n",
    "            for i in range(k):\n",
    "                kth = kth.next\n",
    "                if not kth: return dummy.next\n",
    "\n",
    "            groupNext = kth.next\n",
    "\n",
    "            prev, curr = kth.next, groupPrev.next\n",
    "            while curr != groupNext:\n",
    "                curr.next, prev, curr = prev, curr, curr.next\n",
    "            \n",
    "            groupPrev.next, groupPrev = kth, groupPrev.next\n",
    "\n",
    "\n",
    "\n",
    "        return dummy.next"
   ]
  }
 ],
 "metadata": {
  "kernelspec": {
   "display_name": "base",
   "language": "python",
   "name": "python3"
  },
  "language_info": {
   "codemirror_mode": {
    "name": "ipython",
    "version": 3
   },
   "file_extension": ".py",
   "mimetype": "text/x-python",
   "name": "python",
   "nbconvert_exporter": "python",
   "pygments_lexer": "ipython3",
   "version": "3.9.13"
  },
  "orig_nbformat": 4
 },
 "nbformat": 4,
 "nbformat_minor": 2
}
