{
 "cells": [
  {
   "cell_type": "markdown",
   "metadata": {},
   "source": [
    "# [LeetCode 143. Reorder List](https://leetcode.com/problems/reorder-list/)"
   ]
  },
  {
   "cell_type": "markdown",
   "metadata": {},
   "source": [
    "Time Complexity: O(n)\n",
    "\n",
    "Space Complexity: O(1)"
   ]
  },
  {
   "cell_type": "code",
   "execution_count": null,
   "metadata": {},
   "outputs": [],
   "source": [
    "# Definition for singly-linked list.\n",
    "# class ListNode:\n",
    "#     def __init__(self, val=0, next=None):\n",
    "#         self.val = val\n",
    "#         self.next = next\n",
    "class Solution:\n",
    "    def reorderList(self, head: Optional[ListNode]) -> None:\n",
    "        \"\"\"\n",
    "        Do not return anything, modify head in-place instead.\n",
    "        \"\"\"\n",
    "        \n",
    "        node, fast = head, head\n",
    "\n",
    "        # find the halfway point\n",
    "        while fast.next and fast.next.next:\n",
    "            node = node.next\n",
    "            fast = fast.next.next\n",
    "\n",
    "        prev = None\n",
    "\n",
    "        # reverse linked list\n",
    "        while node:\n",
    "            tmp = node.next\n",
    "            node.next = prev\n",
    "            prev = node\n",
    "            node = tmp\n",
    "\n",
    "        tail = prev\n",
    "        node = head\n",
    "\n",
    "        # merge\n",
    "        while node and tail:\n",
    "            tmp = node.next\n",
    "            node.next = tail\n",
    "\n",
    "            tmp2 = tail.next\n",
    "            tail.next = tmp\n",
    "\n",
    "            node = tmp\n",
    "            tail = tmp2\n",
    "\n",
    "        return head\n",
    "\n"
   ]
  }
 ],
 "metadata": {
  "kernelspec": {
   "display_name": "base",
   "language": "python",
   "name": "python3"
  },
  "language_info": {
   "codemirror_mode": {
    "name": "ipython",
    "version": 3
   },
   "file_extension": ".py",
   "mimetype": "text/x-python",
   "name": "python",
   "nbconvert_exporter": "python",
   "pygments_lexer": "ipython3",
   "version": "3.9.13"
  },
  "orig_nbformat": 4
 },
 "nbformat": 4,
 "nbformat_minor": 2
}
