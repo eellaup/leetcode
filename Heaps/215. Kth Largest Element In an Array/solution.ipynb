{
 "cells": [
  {
   "cell_type": "markdown",
   "metadata": {},
   "source": [
    "# [LeetCode 215. Kth Largest Element in an Array](https://leetcode.com/problems/kth-largest-element-in-an-array/)"
   ]
  },
  {
   "cell_type": "markdown",
   "metadata": {},
   "source": [
    "Time Complexity: O(n)\n",
    "\n",
    "Space Complexity: O(n)"
   ]
  },
  {
   "cell_type": "code",
   "execution_count": null,
   "metadata": {},
   "outputs": [],
   "source": [
    "class Solution:\n",
    "    def findKthLargest(self, nums: List[int], k: int) -> int:\n",
    "        return sorted(nums,reverse=True)[k-1]\n",
    "        # k = len(nums) - k\n",
    "\n",
    "        # def quickselect(l, r):\n",
    "        #     pivot, p = nums[r], l\n",
    "\n",
    "        #     for i in range(l,r):\n",
    "        #         if nums[i] <= pivot:\n",
    "        #             nums[p], nums[i] = nums[i], nums[p]\n",
    "        #             p += 1\n",
    "        #     nums[p], nums[r] = nums[r], nums[p]\n",
    "\n",
    "        #     if p>k: return quickselect(l, p-1)\n",
    "        #     elif p<k: return quickselect(p+1, r)\n",
    "        #     else: return nums[p]\n",
    "\n",
    "        # return quickselect(0, len(nums)-1)"
   ]
  }
 ],
 "metadata": {
  "kernelspec": {
   "display_name": "base",
   "language": "python",
   "name": "python3"
  },
  "language_info": {
   "codemirror_mode": {
    "name": "ipython",
    "version": 3
   },
   "file_extension": ".py",
   "mimetype": "text/x-python",
   "name": "python",
   "nbconvert_exporter": "python",
   "pygments_lexer": "ipython3",
   "version": "3.9.13"
  },
  "orig_nbformat": 4
 },
 "nbformat": 4,
 "nbformat_minor": 2
}
