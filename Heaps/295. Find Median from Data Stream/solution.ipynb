{
 "cells": [
  {
   "cell_type": "markdown",
   "metadata": {},
   "source": [
    "# [LeetCode 295. Find Median from Data Stream](https://leetcode.com/problems/find-median-from-data-stream/description/)"
   ]
  },
  {
   "cell_type": "markdown",
   "metadata": {},
   "source": [
    "Time Complexity: O(logn)\n",
    "\n",
    "Space Complexity: O(1)"
   ]
  },
  {
   "cell_type": "code",
   "execution_count": null,
   "metadata": {},
   "outputs": [],
   "source": [
    "class MedianFinder:\n",
    "\n",
    "    def __init__(self):\n",
    "        self.small, self.large = [], []\n",
    "\n",
    "    def addNum(self, num: int) -> None:\n",
    "        heapq.heappush(self.small, -1*num)\n",
    "\n",
    "        if self.small and self.large and (self.small[0]*-1 > self.large[0]):\n",
    "            heapq.heappush(self.large, heapq.heappop(self.small)*-1)\n",
    "\n",
    "        if len(self.small) > len(self.large)+1:\n",
    "            heapq.heappush(self.large, heapq.heappop(self.small)*-1)\n",
    "\n",
    "        elif len(self.large) > len(self.small)+1:\n",
    "            heapq.heappush(self.small, heapq.heappop(self.large)*-1)\n",
    "\n",
    "    def findMedian(self) -> float:            \n",
    "        if len(self.small) > len(self.large):\n",
    "            return self.small[0]*-1\n",
    "        elif len(self.small) < len(self.large):\n",
    "            return self.large[0]\n",
    "        return (self.small[0]*-1 + self.large[0]) / 2.0\n",
    "\n",
    "# Your MedianFinder object will be instantiated and called as such:\n",
    "# obj = MedianFinder()\n",
    "# obj.addNum(num)\n",
    "# param_2 = obj.findMedian()"
   ]
  }
 ],
 "metadata": {
  "kernelspec": {
   "display_name": "base",
   "language": "python",
   "name": "python3"
  },
  "language_info": {
   "codemirror_mode": {
    "name": "ipython",
    "version": 3
   },
   "file_extension": ".py",
   "mimetype": "text/x-python",
   "name": "python",
   "nbconvert_exporter": "python",
   "pygments_lexer": "ipython3",
   "version": "3.9.13"
  },
  "orig_nbformat": 4
 },
 "nbformat": 4,
 "nbformat_minor": 2
}
