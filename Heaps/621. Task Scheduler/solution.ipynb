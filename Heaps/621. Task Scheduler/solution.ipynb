{
 "cells": [
  {
   "cell_type": "markdown",
   "metadata": {},
   "source": [
    "# [LeetCode 621. Task Scheduler](https://leetcode.com/problems/task-scheduler/)"
   ]
  },
  {
   "cell_type": "markdown",
   "metadata": {},
   "source": [
    "Time Complexity: O(n)\n",
    "\n",
    "Space Complexity: O(n)"
   ]
  },
  {
   "cell_type": "code",
   "execution_count": null,
   "metadata": {},
   "outputs": [],
   "source": [
    "class Solution:\n",
    "    def leastInterval(self, tasks: List[str], n: int) -> int:\n",
    "        tasks = [-x for x in Counter(tasks).values()]\n",
    "        heapq.heapify(tasks)\n",
    "        q = deque()\n",
    "\n",
    "        counter = 0\n",
    "        while tasks or q:\n",
    "            \n",
    "            if tasks:\n",
    "                rem_tasks = 1 + heapq.heappop(tasks)\n",
    "                if rem_tasks:\n",
    "                    q.append((rem_tasks, counter+n))\n",
    "            \n",
    "            if q and q[0][1]==counter:\n",
    "                heapq.heappush(tasks, q.popleft()[0])\n",
    "\n",
    "            counter+=1\n",
    "        return counter"
   ]
  }
 ],
 "metadata": {
  "kernelspec": {
   "display_name": "base",
   "language": "python",
   "name": "python3"
  },
  "language_info": {
   "codemirror_mode": {
    "name": "ipython",
    "version": 3
   },
   "file_extension": ".py",
   "mimetype": "text/x-python",
   "name": "python",
   "nbconvert_exporter": "python",
   "pygments_lexer": "ipython3",
   "version": "3.9.13"
  },
  "orig_nbformat": 4
 },
 "nbformat": 4,
 "nbformat_minor": 2
}
