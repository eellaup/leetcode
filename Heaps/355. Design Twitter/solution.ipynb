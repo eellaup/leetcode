{
 "cells": [
  {
   "cell_type": "markdown",
   "metadata": {},
   "source": [
    "# [LeetCode 355. Design Twitter](https://leetcode.com/problems/design-twitter/)"
   ]
  },
  {
   "cell_type": "markdown",
   "metadata": {},
   "source": [
    "Time Complexity: O(n)\n",
    "\n",
    "Space Complexity: O(n)"
   ]
  },
  {
   "cell_type": "code",
   "execution_count": null,
   "metadata": {},
   "outputs": [],
   "source": [
    "class Twitter:\n",
    "\n",
    "    def __init__(self):\n",
    "        self.followMap = defaultdict(set)\n",
    "        self.tweets = defaultdict(list)\n",
    "        self.tweetTime = 0\n",
    "\n",
    "    def postTweet(self, userId: int, tweetId: int) -> None:\n",
    "        self.tweets[userId].append((self.tweetTime, tweetId))\n",
    "        self.tweetTime -= 1\n",
    "\n",
    "    def getNewsFeed(self, userId: int) -> List[int]:\n",
    "        result = []\n",
    "        minheap = []\n",
    "\n",
    "        self.followMap[userId].add(userId)\n",
    "        for friendId in self.followMap[userId]:\n",
    "            if friendId in self.tweets:\n",
    "                index = len(self.tweets[friendId]) - 1\n",
    "                tweetTime, tweetId = self.tweets[friendId][index]\n",
    "                minheap.append((tweetTime, tweetId, friendId, index-1))\n",
    "        \n",
    "        heapq.heapify(minheap)\n",
    "        while minheap and len(result) < 10:\n",
    "            _,tweetId,friendId,index = heapq.heappop(minheap)\n",
    "            result.append(tweetId)\n",
    "            if index >= 0:\n",
    "                tweetTime, tweetId = self.tweets[friendId][index]\n",
    "                heapq.heappush(minheap, (tweetTime, tweetId, friendId, index-1))\n",
    "        \n",
    "        return result\n",
    "\n",
    "    def follow(self, followerId: int, followeeId: int) -> None:\n",
    "        self.followMap[followerId].add(followeeId)\n",
    "\n",
    "    def unfollow(self, followerId: int, followeeId: int) -> None:\n",
    "        if followeeId in self.followMap[followerId]:\n",
    "            self.followMap[followerId].remove(followeeId)\n",
    "\n",
    "\n",
    "# Your Twitter object will be instantiated and called as such:\n",
    "# obj = Twitter()\n",
    "# obj.postTweet(userId,tweetId)\n",
    "# param_2 = obj.getNewsFeed(userId)\n",
    "# obj.follow(followerId,followeeId)\n",
    "# obj.unfollow(followerId,followeeId)"
   ]
  }
 ],
 "metadata": {
  "kernelspec": {
   "display_name": "base",
   "language": "python",
   "name": "python3"
  },
  "language_info": {
   "codemirror_mode": {
    "name": "ipython",
    "version": 3
   },
   "file_extension": ".py",
   "mimetype": "text/x-python",
   "name": "python",
   "nbconvert_exporter": "python",
   "pygments_lexer": "ipython3",
   "version": "3.9.13"
  },
  "orig_nbformat": 4
 },
 "nbformat": 4,
 "nbformat_minor": 2
}
