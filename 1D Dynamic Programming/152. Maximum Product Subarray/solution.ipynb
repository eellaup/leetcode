{
 "cells": [
  {
   "cell_type": "markdown",
   "metadata": {},
   "source": [
    "# [LeetCode 152. Maximum Product Subarray](https://leetcode.com/problems/maximum-product-subarray/)"
   ]
  },
  {
   "cell_type": "markdown",
   "metadata": {},
   "source": [
    "Time Complexity: O(n)\n",
    "\n",
    "Space Complexity: O(1)"
   ]
  },
  {
   "cell_type": "code",
   "execution_count": null,
   "metadata": {},
   "outputs": [],
   "source": [
    "class Solution:\n",
    "    def maxProduct(self, nums: List[int]) -> int:\n",
    "        result = max(nums)\n",
    "        low, high = 1,1 \n",
    "\n",
    "        for num in nums:\n",
    "            if not num:\n",
    "                low, high = 1, 1\n",
    "                continue\n",
    "            low, high = min(num, low*num, high*num), max(num, low*num, high*num)\n",
    "            result = max(result, low, high)\n",
    "\n",
    "        return result"
   ]
  }
 ],
 "metadata": {
  "kernelspec": {
   "display_name": "base",
   "language": "python",
   "name": "python3"
  },
  "language_info": {
   "codemirror_mode": {
    "name": "ipython",
    "version": 3
   },
   "file_extension": ".py",
   "mimetype": "text/x-python",
   "name": "python",
   "nbconvert_exporter": "python",
   "pygments_lexer": "ipython3",
   "version": "3.9.13"
  },
  "orig_nbformat": 4
 },
 "nbformat": 4,
 "nbformat_minor": 2
}
