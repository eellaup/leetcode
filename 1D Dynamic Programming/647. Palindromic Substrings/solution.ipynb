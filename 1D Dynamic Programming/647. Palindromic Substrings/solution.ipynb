{
 "cells": [
  {
   "cell_type": "markdown",
   "metadata": {},
   "source": [
    "# [LeetCode 647. Palindromic Substrings](https://leetcode.com/problems/palindromic-substrings/description/)"
   ]
  },
  {
   "cell_type": "markdown",
   "metadata": {},
   "source": [
    "Time Complexity: O(n^2)\n",
    "\n",
    "Space Complexity: O(n)"
   ]
  },
  {
   "cell_type": "code",
   "execution_count": null,
   "metadata": {},
   "outputs": [],
   "source": [
    "class Solution:\n",
    "    def countSubstrings(self, s: str) -> int:\n",
    "        count = 0\n",
    "\n",
    "        for i in range(len(s)):\n",
    "            l,r = i,i\n",
    "            while l>=0 and r<len(s) and s[l]==s[r]:\n",
    "                count += 1\n",
    "                l -= 1\n",
    "                r += 1\n",
    "\n",
    "            l,r = i,i+1\n",
    "            while l>=0 and r<len(s) and s[l]==s[r]:\n",
    "                count += 1\n",
    "                l -= 1\n",
    "                r += 1\n",
    "        return count"
   ]
  }
 ],
 "metadata": {
  "kernelspec": {
   "display_name": "base",
   "language": "python",
   "name": "python3"
  },
  "language_info": {
   "codemirror_mode": {
    "name": "ipython",
    "version": 3
   },
   "file_extension": ".py",
   "mimetype": "text/x-python",
   "name": "python",
   "nbconvert_exporter": "python",
   "pygments_lexer": "ipython3",
   "version": "3.9.13"
  },
  "orig_nbformat": 4
 },
 "nbformat": 4,
 "nbformat_minor": 2
}
