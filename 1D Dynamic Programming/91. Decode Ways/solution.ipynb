{
 "cells": [
  {
   "cell_type": "markdown",
   "metadata": {},
   "source": [
    "# [LeetCode 91. Decode Ways](https://leetcode.com/problems/decode-ways/)"
   ]
  },
  {
   "cell_type": "markdown",
   "metadata": {},
   "source": [
    "Time Complexity: O(n)\n",
    "\n",
    "Space Complexity: O(n)"
   ]
  },
  {
   "cell_type": "code",
   "execution_count": null,
   "metadata": {},
   "outputs": [],
   "source": [
    "class Solution:\n",
    "    def numDecodings(self, s: str) -> int:\n",
    "        \n",
    "        dp = { len(s): 1 }\n",
    "\n",
    "        # dp solution\n",
    "        for i in range(len(s)-1, -1, -1):\n",
    "            if s[i]=='0': \n",
    "                dp[i] = 0\n",
    "            else:\n",
    "                dp[i] = dp[i+1]\n",
    "\n",
    "            if (i+1<len(s) and (s[i]=='1' or (s[i]=='2' and s[i+1] in '0123456'))):\n",
    "                dp[i] += dp[i+2]\n",
    "\n",
    "        return dp[0]\n",
    "\n",
    "        # dfs solution\n",
    "        def dfs(i):\n",
    "            if i in dp: return dp[i]\n",
    "            if s[i]=='0': return 0\n",
    "\n",
    "            res = dfs(i+1)\n",
    "            if (i+1 < len(s) and \\\n",
    "                (s[i]=='1' or (\n",
    "                    s[i]=='2' and s[i+1] in '0123456'\n",
    "                ))):\n",
    "                res += dfs(i+2)\n",
    "            dp[i] = res\n",
    "\n",
    "            return res\n",
    "        \n",
    "        return dfs(0)"
   ]
  }
 ],
 "metadata": {
  "kernelspec": {
   "display_name": "base",
   "language": "python",
   "name": "python3"
  },
  "language_info": {
   "codemirror_mode": {
    "name": "ipython",
    "version": 3
   },
   "file_extension": ".py",
   "mimetype": "text/x-python",
   "name": "python",
   "nbconvert_exporter": "python",
   "pygments_lexer": "ipython3",
   "version": "3.9.13"
  },
  "orig_nbformat": 4
 },
 "nbformat": 4,
 "nbformat_minor": 2
}
